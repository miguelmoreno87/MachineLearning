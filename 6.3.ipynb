{
 "cells": [
  {
   "cell_type": "code",
   "execution_count": 1,
   "id": "2a0a9aba-9e9c-4311-b7a4-8cd256ee0783",
   "metadata": {},
   "outputs": [],
   "source": [
    "# Sobre el dataset de 'California housing' realiza un modelo de regresión de Red Elástica de la mediana de los valores de las casas (Y-respuesta) con\n",
    "# las variables restantes (numéricas y categóricas) del dataset.\n",
    "# a) Fijando r=0.1\n",
    "# b) Fijando r=0.95\n",
    "# En ambos casos ajusta alpha por validación cruzada usando k=10 particiones."
   ]
  },
  {
   "cell_type": "code",
   "execution_count": 4,
   "id": "c07675e2-bf07-4309-a03d-4974698cd2eb",
   "metadata": {},
   "outputs": [],
   "source": [
    "# Apartado a)\n",
    "# Se empieza repitiendo el proceso seguido en el ejercicio 6.2. (cargar dataset, imputación, estandarización, variables indicadoras...)\n",
    "import pandas as pd\n",
    "from sklearn.impute import SimpleImputer # Para imputación\n",
    "from sklearn.preprocessing import StandardScaler # Para estandarización\n",
    "from sklearn.pipeline import Pipeline # Para combinar imputación y estandarización\n",
    "from sklearn.preprocessing import OneHotEncoder # Para crear variable indicadora\n",
    "from sklearn.compose import ColumnTransformer # Para considerar la variable categórica en la imputación y estandarización\n",
    "\n",
    "housing = pd.read_csv('datasets/housing/housing.csv')\n",
    "\n",
    "# Variable respuesta\n",
    "respuesta = housing['median_house_value'].copy()\n",
    "housing = housing.drop('median_house_value', axis=1)\n",
    "\n",
    "# Variables numéricas\n",
    "housing_num = housing.drop('ocean_proximity', axis=1)\n",
    "\n",
    "# Imputación y estandarización de las variables numéricas\n",
    "num_pipeline = Pipeline([\n",
    "    ('imputador', SimpleImputer(strategy='median')),\n",
    "    ('std_scaler', StandardScaler()),\n",
    "])\n",
    "housing_num_tr = num_pipeline.fit_transform(housing_num) # Se aplica pipeline\n",
    "\n",
    "# Nombre de variables numéricas\n",
    "num_attribs = list(housing_num)\n",
    "\n",
    "# Nombre de variable categórica\n",
    "cat_attribs = ['ocean_proximity']\n",
    "\n",
    "# Se añade la variable categórica al proceso de imputación y estandarización. Se añade una de las variables categóricas en el intercepto \n",
    "# (drop='first')\n",
    "full_pipeline = ColumnTransformer([\n",
    "    ('num', num_pipeline, num_attribs),\n",
    "    ('cat', OneHotEncoder(drop='first'), cat_attribs)\n",
    "])\n",
    "housing_prepared = full_pipeline.fit_transform(housing) # Se aplica pipeline"
   ]
  },
  {
   "cell_type": "code",
   "execution_count": 7,
   "id": "3fe17ea4-b5e9-4a4d-a176-3c85605f2d7f",
   "metadata": {},
   "outputs": [
    {
     "name": "stdout",
     "output_type": "stream",
     "text": [
      "Coeficientes del modelo de regresión de Red Elástica:\n",
      "Intercepto: 206865.4749645959\n",
      "Beta: [ -7.3285382  -23.12318484  16.94967114  21.48093501   7.83412633\n",
      "  -3.90892666  10.4757704  110.83304095 -36.29600822   0.\n",
      "   8.01288948   7.55581778]\n"
     ]
    }
   ],
   "source": [
    "# Ahora ya se puede llevar a cabo la regresión de Red Elástica. Para ello se usa la clase ElasticNetCV del módulo 'sklearn'.\n",
    "from sklearn.linear_model import ElasticNetCV\n",
    "import numpy as np\n",
    "\n",
    "np.random.seed(3)\n",
    "e_net = ElasticNetCV(cv=10, l1_ratio=0.1) # 'cv' es el número de particiones para la validación cruzada y 'l1_ratio' es el hiperparámetro 'r'\n",
    "e_net.fit(housing_prepared, respuesta)\n",
    "\n",
    "print('Coeficientes del modelo de regresión de Red Elástica:')\n",
    "print('Intercepto:', e_net.intercept_)\n",
    "print('Beta:', e_net.coef_)"
   ]
  },
  {
   "cell_type": "code",
   "execution_count": 10,
   "id": "79fbdab5-7e98-4452-87cf-c7892449f8b2",
   "metadata": {},
   "outputs": [],
   "source": [
    "# La penalización es bastante fuerte y por eso los coeficientes de beta son mucho menores, en valor absoluto, que aquellos que se obtienen con el \n",
    "# modelo sin penalización. Sin embargo, como r=0.1, la penalización es principalmente de tipo Ridge y por ello apenas se realiza selección de\n",
    "# variables (solo un coeficiente se hace cero)."
   ]
  },
  {
   "cell_type": "code",
   "execution_count": 12,
   "id": "c6a0c190-3ad8-43fc-ad93-c44c8996f2ae",
   "metadata": {},
   "outputs": [
    {
     "name": "stdout",
     "output_type": "stream",
     "text": [
      "Coeficientes del modelo de regresión de Red Elástica:\n",
      "Intercepto: 208267.51670197048\n",
      "Beta: [-1469.95946607 -3059.90966939  2747.34800787  2439.66788593\n",
      "   801.03210661 -1171.1003709   1151.60483666 15113.62768328\n",
      " -5336.05497542     0.          1215.79217006  1141.77891116]\n"
     ]
    }
   ],
   "source": [
    "# Apartado b)\n",
    "# Repetimos el procedimiento con r=0.95.\n",
    "\n",
    "np.random.seed(3)\n",
    "e_net_b = ElasticNetCV(cv=10, l1_ratio=0.95) # 'cv' es el número de particiones para la validación cruzada y 'l1_ratio' es el hiperparámetro 'r'\n",
    "e_net_b.fit(housing_prepared, respuesta)\n",
    "\n",
    "print('Coeficientes del modelo de regresión de Red Elástica:')\n",
    "print('Intercepto:', e_net_b.intercept_)\n",
    "print('Beta:', e_net_b.coef_)"
   ]
  },
  {
   "cell_type": "code",
   "execution_count": 17,
   "id": "d88da0c6-6f36-4f39-8d27-771e7c8eb8a1",
   "metadata": {},
   "outputs": [
    {
     "data": {
      "image/png": "[encoded data removed]",
      "text/plain": [
       "<Figure size 640x480 with 1 Axes>"
      ]
     },
     "metadata": {},
     "output_type": "display_data"
    }
   ],
   "source": [
    "# Comparamos los resultados obtenidos con cada modelo de regresión elástica mediante un diagrama de barras. Se importa la librería pyplot.\n",
    "import matplotlib.pyplot as plt\n",
    "\n",
    "ancho = 0.35\n",
    "r1 = np.arange(len(e_net.coef_)) # Posición de las barras para los resultados de 'Red Elástica a'\n",
    "r2 = [x+ancho for x in r1] # Posición de las barras para los resultados de 'Red Elástica b'\n",
    "plt.bar(r1, e_net.coef_, color='red', width=ancho, label='Red Elástica a')\n",
    "plt.bar(r2, e_net_b.coef_, color='blue', width=ancho, label='Red Elástica b')\n",
    "plt.xticks([x+ancho*0.5 for x in range(len(e_net.coef_))],\n",
    "          ['B'+str(i) for i in range(1,13)])\n",
    "plt.legend()\n",
    "plt.xlabel('Variable')\n",
    "plt.ylabel('Beta')\n",
    "plt.show()"
   ]
  },
  {
   "cell_type": "code",
   "execution_count": 34,
   "id": "30eb5310-5985-4623-a4e7-11cf60c247ab",
   "metadata": {},
   "outputs": [
    {
     "name": "stdout",
     "output_type": "stream",
     "text": [
      "0.95\n"
     ]
    }
   ],
   "source": [
    "# Del gráfico anterior se observa que para el apartado a, en el que predomina la regresión Ridge, los coeficientes se han encogido demasiado.\n",
    "\n",
    "# Se puede hacer otra comparación de las dos Redes Elásticas a partir del error de test con cada una. Para ello se crea un tercer objeto 'e_net_c', al\n",
    "# que se le pasa como argumento de l1_ratio una lista con las los valores de 'r'.\n",
    "\n",
    "e_net_c = ElasticNetCV(cv=10, l1_ratio=[0.1, 0.95])\n",
    "e_net_c.fit(housing_prepared, respuesta)\n",
    "print(e_net_c.l1_ratio_)"
   ]
  },
  {
   "cell_type": "code",
   "execution_count": 27,
   "id": "e29c6ae3-8563-4910-b636-7613779ecdac",
   "metadata": {},
   "outputs": [],
   "source": [
    "# Se escoge el valor de r=0.95 porque es con el que se minimiza el error de test por CV"
   ]
  }
 ],
 "metadata": {
  "kernelspec": {
   "display_name": "Python 3 (ipykernel)",
   "language": "python",
   "name": "python3"
  },
  "language_info": {
   "codemirror_mode": {
    "name": "ipython",
    "version": 3
   },
   "file_extension": ".py",
   "mimetype": "text/x-python",
   "name": "python",
   "nbconvert_exporter": "python",
   "pygments_lexer": "ipython3",
   "version": "3.12.4"
  }
 },
 "nbformat": 4,
 "nbformat_minor": 5
}
