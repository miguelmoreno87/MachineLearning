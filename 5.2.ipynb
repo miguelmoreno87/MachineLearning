{
 "cells": [
  {
   "cell_type": "code",
   "execution_count": 12,
   "id": "30ca34ca-1788-494b-b350-9cd1e983b0f2",
   "metadata": {},
   "outputs": [],
   "source": [
    "# Repite el ejercicio 5.1. considerando la variable categórica"
   ]
  },
  {
   "cell_type": "code",
   "execution_count": 14,
   "id": "b0389c3a-6217-4534-8dd4-0bac1d0f7430",
   "metadata": {},
   "outputs": [
    {
     "name": "stdout",
     "output_type": "stream",
     "text": [
      "<class 'pandas.core.frame.DataFrame'>\n",
      "RangeIndex: 20640 entries, 0 to 20639\n",
      "Data columns (total 10 columns):\n",
      " #   Column              Non-Null Count  Dtype  \n",
      "---  ------              --------------  -----  \n",
      " 0   longitude           20640 non-null  float64\n",
      " 1   latitude            20640 non-null  float64\n",
      " 2   housing_median_age  20640 non-null  float64\n",
      " 3   total_rooms         20640 non-null  float64\n",
      " 4   total_bedrooms      20433 non-null  float64\n",
      " 5   population          20640 non-null  float64\n",
      " 6   households          20640 non-null  float64\n",
      " 7   median_income       20640 non-null  float64\n",
      " 8   median_house_value  20640 non-null  float64\n",
      " 9   ocean_proximity     20640 non-null  object \n",
      "dtypes: float64(9), object(1)\n",
      "memory usage: 1.6+ MB\n",
      "None\n"
     ]
    }
   ],
   "source": [
    "# Apartado a)\n",
    "import pandas as pd\n",
    "\n",
    "# Comenzamos cargando el dataset\n",
    "housing = pd.read_csv('datasets/housing/housing.csv')\n",
    "\n",
    "print(housing.info())"
   ]
  },
  {
   "cell_type": "code",
   "execution_count": 16,
   "id": "f4d62afa-92da-4654-8946-e91518cc2198",
   "metadata": {},
   "outputs": [
    {
     "data": {
      "text/html": [
       "<div>\n",
       "<style scoped>\n",
       "    .dataframe tbody tr th:only-of-type {\n",
       "        vertical-align: middle;\n",
       "    }\n",
       "\n",
       "    .dataframe tbody tr th {\n",
       "        vertical-align: top;\n",
       "    }\n",
       "\n",
       "    .dataframe thead th {\n",
       "        text-align: right;\n",
       "    }\n",
       "</style>\n",
       "<table border=\"1\" class=\"dataframe\">\n",
       "  <thead>\n",
       "    <tr style=\"text-align: right;\">\n",
       "      <th></th>\n",
       "      <th>ocean_proximity</th>\n",
       "    </tr>\n",
       "  </thead>\n",
       "  <tbody>\n",
       "    <tr>\n",
       "      <th>0</th>\n",
       "      <td>NEAR BAY</td>\n",
       "    </tr>\n",
       "    <tr>\n",
       "      <th>1</th>\n",
       "      <td>NEAR BAY</td>\n",
       "    </tr>\n",
       "    <tr>\n",
       "      <th>2</th>\n",
       "      <td>NEAR BAY</td>\n",
       "    </tr>\n",
       "    <tr>\n",
       "      <th>3</th>\n",
       "      <td>NEAR BAY</td>\n",
       "    </tr>\n",
       "    <tr>\n",
       "      <th>4</th>\n",
       "      <td>NEAR BAY</td>\n",
       "    </tr>\n",
       "    <tr>\n",
       "      <th>...</th>\n",
       "      <td>...</td>\n",
       "    </tr>\n",
       "    <tr>\n",
       "      <th>20635</th>\n",
       "      <td>INLAND</td>\n",
       "    </tr>\n",
       "    <tr>\n",
       "      <th>20636</th>\n",
       "      <td>INLAND</td>\n",
       "    </tr>\n",
       "    <tr>\n",
       "      <th>20637</th>\n",
       "      <td>INLAND</td>\n",
       "    </tr>\n",
       "    <tr>\n",
       "      <th>20638</th>\n",
       "      <td>INLAND</td>\n",
       "    </tr>\n",
       "    <tr>\n",
       "      <th>20639</th>\n",
       "      <td>INLAND</td>\n",
       "    </tr>\n",
       "  </tbody>\n",
       "</table>\n",
       "<p>20640 rows × 1 columns</p>\n",
       "</div>"
      ],
      "text/plain": [
       "      ocean_proximity\n",
       "0            NEAR BAY\n",
       "1            NEAR BAY\n",
       "2            NEAR BAY\n",
       "3            NEAR BAY\n",
       "4            NEAR BAY\n",
       "...               ...\n",
       "20635          INLAND\n",
       "20636          INLAND\n",
       "20637          INLAND\n",
       "20638          INLAND\n",
       "20639          INLAND\n",
       "\n",
       "[20640 rows x 1 columns]"
      ]
     },
     "execution_count": 16,
     "metadata": {},
     "output_type": "execute_result"
    }
   ],
   "source": [
    "# Es necesario definir una variable indicadora para la variable categórica 'ocean_proximity', a la que se llamará 'ocean_cat'.\n",
    "\n",
    "ocean_cat = housing[['ocean_proximity']]\n",
    "ocean_cat"
   ]
  },
  {
   "cell_type": "code",
   "execution_count": 18,
   "id": "060f5b69-7c37-4bc5-802e-9c31c49c4efd",
   "metadata": {},
   "outputs": [
    {
     "data": {
      "text/plain": [
       "array(['NEAR BAY', '<1H OCEAN', 'INLAND', 'NEAR OCEAN', 'ISLAND'],\n",
       "      dtype=object)"
      ]
     },
     "execution_count": 18,
     "metadata": {},
     "output_type": "execute_result"
    }
   ],
   "source": [
    "header_ocean_cat = housing['ocean_proximity'].unique() # Saca todos los posibles valores de la variable categórica\n",
    "header_ocean_cat"
   ]
  },
  {
   "cell_type": "code",
   "execution_count": 20,
   "id": "b678f252-3c00-4722-88cf-a063b7d98a3d",
   "metadata": {},
   "outputs": [
    {
     "name": "stdout",
     "output_type": "stream",
     "text": [
      "[[0. 0. 0. 1. 0.]\n",
      " [0. 0. 0. 1. 0.]\n",
      " [0. 0. 0. 1. 0.]\n",
      " ...\n",
      " [0. 1. 0. 0. 0.]\n",
      " [0. 1. 0. 0. 0.]\n",
      " [0. 1. 0. 0. 0.]]\n"
     ]
    }
   ],
   "source": [
    "from sklearn.preprocessing import OneHotEncoder # Para crear variable indicadora\n",
    "\n",
    "indicador_var = OneHotEncoder(sparse_output=False) \n",
    "# Se crea una matriz con cinco columnas y 20640 filas. Cada columna corresponde a uno de los cinco posibles valores para 'ocean_proximity'. Se asigna\n",
    "# un 1 al valor que toma y un cero al resto de posibles valores.\n",
    "ocean_indicadora = indicador_var.fit_transform(ocean_cat) \n",
    "print(ocean_indicadora)"
   ]
  },
  {
   "cell_type": "code",
   "execution_count": 21,
   "id": "69d5096d-0a14-4aca-ac41-c841975fc3d9",
   "metadata": {},
   "outputs": [
    {
     "data": {
      "text/html": [
       "<div>\n",
       "<style scoped>\n",
       "    .dataframe tbody tr th:only-of-type {\n",
       "        vertical-align: middle;\n",
       "    }\n",
       "\n",
       "    .dataframe tbody tr th {\n",
       "        vertical-align: top;\n",
       "    }\n",
       "\n",
       "    .dataframe thead th {\n",
       "        text-align: right;\n",
       "    }\n",
       "</style>\n",
       "<table border=\"1\" class=\"dataframe\">\n",
       "  <thead>\n",
       "    <tr style=\"text-align: right;\">\n",
       "      <th></th>\n",
       "      <th>NEAR BAY</th>\n",
       "      <th>&lt;1H OCEAN</th>\n",
       "      <th>INLAND</th>\n",
       "      <th>NEAR OCEAN</th>\n",
       "      <th>ISLAND</th>\n",
       "    </tr>\n",
       "  </thead>\n",
       "  <tbody>\n",
       "    <tr>\n",
       "      <th>0</th>\n",
       "      <td>0.0</td>\n",
       "      <td>0.0</td>\n",
       "      <td>0.0</td>\n",
       "      <td>1.0</td>\n",
       "      <td>0.0</td>\n",
       "    </tr>\n",
       "    <tr>\n",
       "      <th>1</th>\n",
       "      <td>0.0</td>\n",
       "      <td>0.0</td>\n",
       "      <td>0.0</td>\n",
       "      <td>1.0</td>\n",
       "      <td>0.0</td>\n",
       "    </tr>\n",
       "    <tr>\n",
       "      <th>2</th>\n",
       "      <td>0.0</td>\n",
       "      <td>0.0</td>\n",
       "      <td>0.0</td>\n",
       "      <td>1.0</td>\n",
       "      <td>0.0</td>\n",
       "    </tr>\n",
       "    <tr>\n",
       "      <th>3</th>\n",
       "      <td>0.0</td>\n",
       "      <td>0.0</td>\n",
       "      <td>0.0</td>\n",
       "      <td>1.0</td>\n",
       "      <td>0.0</td>\n",
       "    </tr>\n",
       "    <tr>\n",
       "      <th>4</th>\n",
       "      <td>0.0</td>\n",
       "      <td>0.0</td>\n",
       "      <td>0.0</td>\n",
       "      <td>1.0</td>\n",
       "      <td>0.0</td>\n",
       "    </tr>\n",
       "    <tr>\n",
       "      <th>...</th>\n",
       "      <td>...</td>\n",
       "      <td>...</td>\n",
       "      <td>...</td>\n",
       "      <td>...</td>\n",
       "      <td>...</td>\n",
       "    </tr>\n",
       "    <tr>\n",
       "      <th>20635</th>\n",
       "      <td>0.0</td>\n",
       "      <td>1.0</td>\n",
       "      <td>0.0</td>\n",
       "      <td>0.0</td>\n",
       "      <td>0.0</td>\n",
       "    </tr>\n",
       "    <tr>\n",
       "      <th>20636</th>\n",
       "      <td>0.0</td>\n",
       "      <td>1.0</td>\n",
       "      <td>0.0</td>\n",
       "      <td>0.0</td>\n",
       "      <td>0.0</td>\n",
       "    </tr>\n",
       "    <tr>\n",
       "      <th>20637</th>\n",
       "      <td>0.0</td>\n",
       "      <td>1.0</td>\n",
       "      <td>0.0</td>\n",
       "      <td>0.0</td>\n",
       "      <td>0.0</td>\n",
       "    </tr>\n",
       "    <tr>\n",
       "      <th>20638</th>\n",
       "      <td>0.0</td>\n",
       "      <td>1.0</td>\n",
       "      <td>0.0</td>\n",
       "      <td>0.0</td>\n",
       "      <td>0.0</td>\n",
       "    </tr>\n",
       "    <tr>\n",
       "      <th>20639</th>\n",
       "      <td>0.0</td>\n",
       "      <td>1.0</td>\n",
       "      <td>0.0</td>\n",
       "      <td>0.0</td>\n",
       "      <td>0.0</td>\n",
       "    </tr>\n",
       "  </tbody>\n",
       "</table>\n",
       "<p>20640 rows × 5 columns</p>\n",
       "</div>"
      ],
      "text/plain": [
       "       NEAR BAY  <1H OCEAN  INLAND  NEAR OCEAN  ISLAND\n",
       "0           0.0        0.0     0.0         1.0     0.0\n",
       "1           0.0        0.0     0.0         1.0     0.0\n",
       "2           0.0        0.0     0.0         1.0     0.0\n",
       "3           0.0        0.0     0.0         1.0     0.0\n",
       "4           0.0        0.0     0.0         1.0     0.0\n",
       "...         ...        ...     ...         ...     ...\n",
       "20635       0.0        1.0     0.0         0.0     0.0\n",
       "20636       0.0        1.0     0.0         0.0     0.0\n",
       "20637       0.0        1.0     0.0         0.0     0.0\n",
       "20638       0.0        1.0     0.0         0.0     0.0\n",
       "20639       0.0        1.0     0.0         0.0     0.0\n",
       "\n",
       "[20640 rows x 5 columns]"
      ]
     },
     "execution_count": 21,
     "metadata": {},
     "output_type": "execute_result"
    }
   ],
   "source": [
    "ocean_df = pd.DataFrame(ocean_indicadora, columns=header_ocean_cat, index=housing.index) # Se guarda la matriz en un dataframe\n",
    "ocean_df"
   ]
  },
  {
   "cell_type": "code",
   "execution_count": 22,
   "id": "fc5c6bcd-89a4-48d3-91bb-75b5ca8c6dd3",
   "metadata": {},
   "outputs": [
    {
     "name": "stdout",
     "output_type": "stream",
     "text": [
      "<class 'pandas.core.frame.DataFrame'>\n",
      "RangeIndex: 20640 entries, 0 to 20639\n",
      "Data columns (total 5 columns):\n",
      " #   Column      Non-Null Count  Dtype  \n",
      "---  ------      --------------  -----  \n",
      " 0   NEAR BAY    20640 non-null  float64\n",
      " 1   <1H OCEAN   20640 non-null  float64\n",
      " 2   INLAND      20640 non-null  float64\n",
      " 3   NEAR OCEAN  20640 non-null  float64\n",
      " 4   ISLAND      20640 non-null  float64\n",
      "dtypes: float64(5)\n",
      "memory usage: 806.4 KB\n",
      "None\n"
     ]
    }
   ],
   "source": [
    "print(ocean_df.info())"
   ]
  },
  {
   "cell_type": "code",
   "execution_count": 23,
   "id": "ff4efb8d-2168-4153-ba95-31ab0894907d",
   "metadata": {},
   "outputs": [
    {
     "data": {
      "text/plain": [
       "array([[-1.32783522,  1.05254828,  0.98214266, ...,  0.        ,\n",
       "         1.        ,  0.        ],\n",
       "       [-1.32284391,  1.04318455, -0.60701891, ...,  0.        ,\n",
       "         1.        ,  0.        ],\n",
       "       [-1.33282653,  1.03850269,  1.85618152, ...,  0.        ,\n",
       "         1.        ,  0.        ],\n",
       "       ...,\n",
       "       [-0.8237132 ,  1.77823747, -0.92485123, ...,  0.        ,\n",
       "         0.        ,  0.        ],\n",
       "       [-0.87362627,  1.77823747, -0.84539315, ...,  0.        ,\n",
       "         0.        ,  0.        ],\n",
       "       [-0.83369581,  1.75014627, -1.00430931, ...,  0.        ,\n",
       "         0.        ,  0.        ]])"
      ]
     },
     "execution_count": 23,
     "metadata": {},
     "output_type": "execute_result"
    }
   ],
   "source": [
    "# Antes de construir el modelo de regresión, se debe repetir el proceso de imputación y estandarización de las variables numéricas, como se hizo en \n",
    "# ejercicio 5.1., pero ahora añadiendo la variable categórica en dicho proceso. \n",
    "\n",
    "# Para combinar imputación y estandarización\n",
    "from sklearn.pipeline import Pipeline\n",
    "\n",
    "# Para realizar la imputación se carga la clase SimpleImputer\n",
    "from sklearn.impute import SimpleImputer\n",
    "\n",
    "# Para realizar estandarización\n",
    "from sklearn.preprocessing import StandardScaler\n",
    "\n",
    "# Para considerar la variable categórica en la imputación y estandarización\n",
    "from sklearn.compose import ColumnTransformer\n",
    "\n",
    "# Se separa la variable respuesta de las variables predictoras\n",
    "respuesta = housing['median_house_value']\n",
    "housing = housing.drop('median_house_value', axis=1) # Se elimina del dataframe la columna (axis=1) correspondiente a la variable respuesta\n",
    "\n",
    "# Para que la imputación no de error se elimina la variable categórica (no numérica)\n",
    "housing_num = housing.drop('ocean_proximity', axis=1)\n",
    "\n",
    "# Imputación y estandarización de las variables numéricas\n",
    "num_pipeline = Pipeline([\n",
    "    ('imputador', SimpleImputer(strategy='median')),\n",
    "    ('std_scalrer', StandardScaler())\n",
    "                        ])\n",
    "\n",
    "num_attribs = list(housing_num) # Se crea una lista con los nombres de las variables numéricas\n",
    "cat_attribs = ['ocean_proximity'] # Se crea una lista con los nombres de las variables categóricas\n",
    "\n",
    "# Se añade la variable categórica al proceso de imputación y estandarización\n",
    "full_pipeline = ColumnTransformer([\n",
    "    ('num', num_pipeline, num_attribs),\n",
    "    ('cat', OneHotEncoder(), cat_attribs)\n",
    "])\n",
    "\n",
    "housing_prepared = full_pipeline.fit_transform(housing)\n",
    "housing_prepared"
   ]
  },
  {
   "cell_type": "code",
   "execution_count": 24,
   "id": "3cd327e1-afe2-4102-b57a-68679339598a",
   "metadata": {},
   "outputs": [
    {
     "name": "stdout",
     "output_type": "stream",
     "text": [
      "Ordenada en el origen: 242709.13524913645\n",
      "Componentes del vector normal del hiperplano; [-52952.95152846 -53767.62485624  13312.88334575 -10320.06092603\n",
      "  29920.76507621 -44490.47744263  29746.22226671  73636.15586366\n",
      " -23472.13460582 -63238.53335023 132593.58521653 -27169.53626692\n",
      " -18713.38099356]\n"
     ]
    }
   ],
   "source": [
    "# Se ha divido el dataset entre variables numéricas y variables categóricas (que se han tratado mediante indicadores) y se ha llevado a cabo la \n",
    "# imputación y la posterior estandarización mediante la clase Pipeline. Los resultados se guardan en el array 'housing_prepared'.\n",
    "# Ya se puede construir el modelo de regresión.\n",
    "from sklearn.linear_model import LinearRegression\n",
    "\n",
    "lm2 = LinearRegression()\n",
    "lm2.fit(housing_prepared, respuesta)\n",
    "print('Ordenada en el origen:', lm2.intercept_)\n",
    "print('Componentes del vector normal del hiperplano;', lm2.coef_)"
   ]
  },
  {
   "cell_type": "code",
   "execution_count": 28,
   "id": "6033a58a-4ade-433b-873e-ab8724fd214b",
   "metadata": {},
   "outputs": [
    {
     "data": {
      "text/plain": [
       "13"
      ]
     },
     "execution_count": 28,
     "metadata": {},
     "output_type": "execute_result"
    }
   ],
   "source": [
    "# Nótese que hay cinco componentes más que con respecto al ejercicio 5.1. del vector normal al hiperplano, que corresponden a las cinco variables\n",
    "# categóricas\n",
    "len(lm2.coef_)"
   ]
  },
  {
   "cell_type": "code",
   "execution_count": 31,
   "id": "0bb6351a-2fb9-4595-8f42-16f92cbf9d78",
   "metadata": {},
   "outputs": [
    {
     "name": "stdout",
     "output_type": "stream",
     "text": [
      "                            OLS Regression Results                            \n",
      "==============================================================================\n",
      "Dep. Variable:     median_house_value   R-squared:                       0.645\n",
      "Model:                            OLS   Adj. R-squared:                  0.645\n",
      "Method:                 Least Squares   F-statistic:                     3129.\n",
      "Date:                Thu, 09 Jan 2025   Prob (F-statistic):               0.00\n",
      "Time:                        11:16:17   Log-Likelihood:            -2.5917e+05\n",
      "No. Observations:               20640   AIC:                         5.184e+05\n",
      "Df Residuals:                   20627   BIC:                         5.185e+05\n",
      "Df Model:                          12                                         \n",
      "Covariance Type:            nonrobust                                         \n",
      "==============================================================================\n",
      "                 coef    std err          t      P>|t|      [0.025      0.975]\n",
      "------------------------------------------------------------------------------\n",
      "const       2.023e+05   5147.569     39.292      0.000    1.92e+05    2.12e+05\n",
      "x1         -5.295e+04   2031.313    -26.068      0.000   -5.69e+04    -4.9e+04\n",
      "x2         -5.377e+04   2135.527    -25.178      0.000    -5.8e+04   -4.96e+04\n",
      "x3          1.331e+04    550.049     24.203      0.000    1.22e+04    1.44e+04\n",
      "x4         -1.032e+04   1681.185     -6.139      0.000   -1.36e+04   -7024.805\n",
      "x5          2.992e+04   2487.720     12.027      0.000     2.5e+04    3.48e+04\n",
      "x6         -4.449e+04   1204.800    -36.928      0.000   -4.69e+04   -4.21e+04\n",
      "x7          2.975e+04   2545.710     11.685      0.000    2.48e+04    3.47e+04\n",
      "x8          7.364e+04    631.147    116.670      0.000    7.24e+04    7.49e+04\n",
      "x9          1.698e+04   5183.194      3.276      0.001    6819.918    2.71e+04\n",
      "x10        -2.279e+04   5326.171     -4.278      0.000   -3.32e+04   -1.23e+04\n",
      "x11          1.73e+05   2.56e+04      6.748      0.000    1.23e+05    2.23e+05\n",
      "x12         1.328e+04   5328.283      2.493      0.013    2838.130    2.37e+04\n",
      "x13         2.174e+04   5267.869      4.127      0.000    1.14e+04    3.21e+04\n",
      "==============================================================================\n",
      "Omnibus:                     5177.939   Durbin-Watson:                   0.968\n",
      "Prob(Omnibus):                  0.000   Jarque-Bera (JB):            19747.113\n",
      "Skew:                           1.213   Prob(JB):                         0.00\n",
      "Kurtosis:                       7.132   Cond. No.                     1.28e+16\n",
      "==============================================================================\n",
      "\n",
      "Notes:\n",
      "[1] Standard Errors assume that the covariance matrix of the errors is correctly specified.\n",
      "[2] The smallest eigenvalue is 4.9e-28. This might indicate that there are\n",
      "strong multicollinearity problems or that the design matrix is singular.\n"
     ]
    }
   ],
   "source": [
    "# Apartado b)\n",
    "# Se procede igual que en el apartado b) del ejercicio 5.1.\n",
    "import statsmodels.api as sm\n",
    "from scipy import stats\n",
    "\n",
    "X = housing_prepared\n",
    "y = respuesta\n",
    "X2 = sm.add_constant(X) # Se añade el parámetro correspondiente a la ordenada en el origen\n",
    "est = sm.OLS(y,X2) # Se vuelve a construir el modelo empleando la librería statsmodels.api\n",
    "est = est.fit()\n",
    "print(est.summary())"
   ]
  },
  {
   "cell_type": "code",
   "execution_count": 33,
   "id": "e110d2d8-b073-4e0b-b0b9-0c79273980ee",
   "metadata": {},
   "outputs": [
    {
     "data": {
      "image/png": "[encoded data removed]",
      "text/plain": [
       "<Figure size 800x800 with 1 Axes>"
      ]
     },
     "metadata": {},
     "output_type": "display_data"
    }
   ],
   "source": [
    "# Todas las variables predictoras son estadísticamente significativas porque el p.valor obtenido es siempre inferior a 0.05.\n",
    "# Los coeficientes de determinación y de determinación ajustado son práticamente inguales porque el número de observaciones es mucho mayor que el\n",
    "# número de variables.\n",
    "# A continuación, se representan los valores predichos frente a los reales.\n",
    "import matplotlib.pyplot as plt\n",
    "\n",
    "fig = plt.figure(figsize=(8,8))\n",
    "y_pred = lm2.predict(housing_prepared)\n",
    "plt.scatter(y,y_pred)\n",
    "plt.xlabel('puntos reales')\n",
    "plt.ylabel('puntos ajuste')\n",
    "plt.plot([0, max(y)],[0, max(y)],color='red',linewidth=3)\n",
    "plt.show()"
   ]
  },
  {
   "cell_type": "code",
   "execution_count": 34,
   "id": "34870b8a-6740-4b1c-9ab5-d8d121e33224",
   "metadata": {},
   "outputs": [
    {
     "name": "stdout",
     "output_type": "stream",
     "text": [
      "[ 0.53891366 -0.6422871   0.02864572 -0.23321042 -0.24283094 -0.22913175\n",
      " -0.23681619 -0.17679508]\n"
     ]
    }
   ],
   "source": [
    "# Apartado c)\n",
    "# Obtenemos las medianas de las variables numéricas. Es importante hallar las medianas DESPUÉS de haber aplicado pipeline()\n",
    "# Se aplica el pipeline sobre las variables numéricas\n",
    "housing_num_tr = num_pipeline.fit_transform(housing_num)\n",
    "\n",
    "import numpy as np\n",
    "medianas = np.median(housing_num_tr, axis=0)\n",
    "print(medianas)"
   ]
  },
  {
   "cell_type": "code",
   "execution_count": 35,
   "id": "97c25cbe-24ca-46a3-b5cc-81b5d3ed27b4",
   "metadata": {},
   "outputs": [
    {
     "name": "stdout",
     "output_type": "stream",
     "text": [
      "ocean_proximity\n",
      "<1H OCEAN     9136\n",
      "INLAND        6551\n",
      "NEAR OCEAN    2658\n",
      "NEAR BAY      2290\n",
      "ISLAND           5\n",
      "Name: count, dtype: int64\n"
     ]
    }
   ],
   "source": [
    "# Vamos ahora con las variables categóricas\n",
    "print(housing['ocean_proximity'].value_counts())"
   ]
  },
  {
   "cell_type": "code",
   "execution_count": 36,
   "id": "57569a7d-80e4-4b8d-b544-391537fc618d",
   "metadata": {},
   "outputs": [
    {
     "name": "stdout",
     "output_type": "stream",
     "text": [
      "Ordenada en el origen: 219237.00064331223\n",
      "Componentes del vector normal del hiperplano; [-52952.95152846 -53767.62485624  13312.88334575 -10320.06092603\n",
      "  29920.76507621 -44490.47744263  29746.22226671  73636.15586366\n",
      " -39766.3987444  156065.71982235  -3697.40166109   4758.75361226]\n",
      "Número de componentes: 12\n"
     ]
    }
   ],
   "source": [
    "# El valor más repetido es '<1H OCEAN', que se puede incluir en el intercepto del modelo y reducir en uno el número de componentes normales al hiperplano\n",
    "# Para ello se vuelve a contruir 'housing_prepared', incluyendo drop='first' como argumento de OneHotEncoder.\n",
    "full_pipeline = ColumnTransformer([\n",
    "    ('num', num_pipeline, num_attribs),\n",
    "    ('cat', OneHotEncoder(drop='first'), cat_attribs)\n",
    "])\n",
    "\n",
    "housing_prepared = full_pipeline.fit_transform(housing)\n",
    "lm2 = LinearRegression()\n",
    "lm2.fit(housing_prepared, respuesta)\n",
    "print('Ordenada en el origen:', lm2.intercept_)\n",
    "print('Componentes del vector normal del hiperplano;', lm2.coef_)\n",
    "print('Número de componentes:', len(lm2.coef_))"
   ]
  },
  {
   "cell_type": "code",
   "execution_count": 165,
   "id": "036e76d3-622f-490d-83ea-5f34864e3bb2",
   "metadata": {},
   "outputs": [
    {
     "name": "stdout",
     "output_type": "stream",
     "text": [
      "El, valor de y predicho es:  [210887.88263401] dólares.\n"
     ]
    }
   ],
   "source": [
    "# Se observa como son ahora 12 las componentes del vector normal\n",
    "\n",
    "# La moda es la mediana de las desviaciones en valor absoluto de las observaciones con respecto de la mediana. Como las variables indicadoras valen, \n",
    "# o bien 0 o bien 1, la moda de todas las variables será 0 excepto de la más frecuente, que valdrá 1. La más frecuente es la que se incluye en el\n",
    "# intercepto. Por lo tanto, se toman como 0 los valores para las variables indicadoras x9, x10, x11 y x12.\n",
    "array_medianas = np.array(medianas)\n",
    "x_nueva = np.append(array_medianas, [0,0,0,0])\n",
    "x2 = x_nueva.reshape(1,-1)\n",
    "y_nueva = lm2.predict(x2)\n",
    "print('El, valor de y predicho es: ', y_nueva, 'dólares.')"
   ]
  }
 ],
 "metadata": {
  "kernelspec": {
   "display_name": "Python 3 (ipykernel)",
   "language": "python",
   "name": "python3"
  },
  "language_info": {
   "codemirror_mode": {
    "name": "ipython",
    "version": 3
   },
   "file_extension": ".py",
   "mimetype": "text/x-python",
   "name": "python",
   "nbconvert_exporter": "python",
   "pygments_lexer": "ipython3",
   "version": "3.12.4"
  }
 },
 "nbformat": 4,
 "nbformat_minor": 5
}
