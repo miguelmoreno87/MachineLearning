{
 "cells": [
  {
   "cell_type": "code",
   "execution_count": 1,
   "id": "44904973-ccc8-4d1e-bbd4-80792d5b76eb",
   "metadata": {},
   "outputs": [],
   "source": [
    "# Se tiene la muestra X={4,3,11,5,4,50,6,8,7,9}, donde 50 es un outlier.\n",
    "# a) Calcula la media recortada de la muestra al 20%, al 10% y la centrimedia.\n",
    "# b) Calcula la media winsorizada al 20%.\n",
    "# c) Calcula la trimedia.\n",
    "# d) Compara los valores obtenidos en los apartados a), b) y c) con la media muestral.\n",
    "# e) Calcula el MAD y compáralo con la desviación típica."
   ]
  },
  {
   "cell_type": "code",
   "execution_count": 25,
   "id": "c33a7159-1e48-44a8-b5a1-8c2fc5aa135e",
   "metadata": {},
   "outputs": [
    {
     "name": "stdout",
     "output_type": "stream",
     "text": [
      "La media recortada un 20% es: 6.75\n",
      "La media recortada un 10% es: 8.94\n",
      "La centrimedia es: 6.5\n"
     ]
    }
   ],
   "source": [
    "# Apartado a)\n",
    "# Para calcular la media recortada primero hay ordenar los datos. Para obtener la media recortada al 20% se obtiene de quitar el 10% (alpha=0.1)\n",
    "# de los datos  más pequeños y el 10% de los datos más grandes. Como son 10 los datos, esto equivale a quitar el más pequeño y el más grande. \n",
    "# Por otro lado, para obtener la media recortada al 10%, se ponderan los datos extremos por q=1+[0.05*10]-0.05*10=0.5 y se considera que \n",
    "# n=10*(1-2*0.05)=9. Para la centrimedia alpha=0.25, q=1+2-2.5=0.5 y n=10*(1-2*0.25)=5.\n",
    "\n",
    "muestra = [4,3,11,5,4,50,6,8,7,9]\n",
    "muestra.sort() # Muestra ordenada\n",
    "\n",
    "# Media recortada al 20%\n",
    "media_20 = sum(muestra[1:9])/8\n",
    "print('La media recortada un 20% es:', media_20)\n",
    "\n",
    "# Media recortada al 10%\n",
    "media_10 = (muestra[0]*0.5+sum(muestra[1:9])+muestra[9]*0.5)/9\n",
    "print('La media recortada un 10% es:', round(media_10,2))\n",
    "\n",
    "# Media recortada al 50% = Centrimedia\n",
    "centrimedia = (muestra[2]*0.5+sum(muestra[3:7])+muestra[7]*0.5)/5\n",
    "print('La centrimedia es:', centrimedia)"
   ]
  },
  {
   "cell_type": "code",
   "execution_count": 29,
   "id": "d3f8898f-825f-4ae7-9366-3a40759238d2",
   "metadata": {},
   "outputs": [
    {
     "name": "stdout",
     "output_type": "stream",
     "text": [
      "La media winsorizada al 20% es: 6.9\n"
     ]
    }
   ],
   "source": [
    "# Apartado b)\n",
    "# El dato más pequeño, 3, se cambia por 4 y el dato más grande, 50, se cambia por 11.\n",
    "\n",
    "muestra[0]=4\n",
    "muestra[9]=11\n",
    "media_winsorizada20 = sum(muestra)/10\n",
    "print('La media winsorizada al 20% es:', media_winsorizada20)"
   ]
  },
  {
   "cell_type": "code",
   "execution_count": 36,
   "id": "8710445d-14b5-4be5-95e1-b886064b2e45",
   "metadata": {},
   "outputs": [
    {
     "name": "stdout",
     "output_type": "stream",
     "text": [
      "La trimedia es: 6.5\n"
     ]
    }
   ],
   "source": [
    "# Apartado c)\n",
    "# Para calcular cuartiles y medianas importamos NumPy. Se tiene en cuenta que el primer cuartil equivale al percentil 25% y el tercer cuartil al\n",
    "# percentil 75%.\n",
    "import numpy as np\n",
    "\n",
    "muestra = [4,3,11,5,4,50,6,8,7,9]\n",
    "muestra = np.array(muestra)\n",
    "cuartil1 = np.percentile(muestra, 25)\n",
    "cuartil3 = np.percentile(muestra, 75)\n",
    "mediana = np.median(muestra)\n",
    "trimedia = (cuartil1 + 2*mediana + cuartil3)/4\n",
    "print('La trimedia es:', trimedia)"
   ]
  },
  {
   "cell_type": "code",
   "execution_count": 38,
   "id": "c3bbb314-4465-4bc1-80bb-23a1e739b158",
   "metadata": {},
   "outputs": [
    {
     "name": "stdout",
     "output_type": "stream",
     "text": [
      "La media muestral es: 10.7\n"
     ]
    }
   ],
   "source": [
    "# Apartado d)\n",
    "media = np.mean(muestra)\n",
    "print('La media muestral es:', media)"
   ]
  },
  {
   "cell_type": "code",
   "execution_count": 44,
   "id": "7ea04ef8-9a0f-437c-b02d-d045560399cc",
   "metadata": {},
   "outputs": [
    {
     "name": "stdout",
     "output_type": "stream",
     "text": [
      "La desviación típica de la muestra es: 13.31\n",
      "El MAD de la muestra es: 2.5\n"
     ]
    }
   ],
   "source": [
    "# Apartado e)\n",
    "# El MAD es la mediana de las desviaciones en valor absoluto con respecto de la mediana.\n",
    "desv_std = np.std(muestra)\n",
    "muestra_desviaciones = [np.abs(elem-mediana) for elem in muestra]\n",
    "MAD = np.median(muestra_desviaciones)\n",
    "print('La desviación típica de la muestra es:', round(desv_std,2))\n",
    "print('El MAD de la muestra es:', MAD)"
   ]
  }
 ],
 "metadata": {
  "kernelspec": {
   "display_name": "Python 3 (ipykernel)",
   "language": "python",
   "name": "python3"
  },
  "language_info": {
   "codemirror_mode": {
    "name": "ipython",
    "version": 3
   },
   "file_extension": ".py",
   "mimetype": "text/x-python",
   "name": "python",
   "nbconvert_exporter": "python",
   "pygments_lexer": "ipython3",
   "version": "3.12.4"
  }
 },
 "nbformat": 4,
 "nbformat_minor": 5
}
