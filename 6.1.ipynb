{
 "cells": [
  {
   "cell_type": "code",
   "execution_count": 1,
   "id": "a7bae6e2-952a-46e9-9625-c9a36fbad56b",
   "metadata": {},
   "outputs": [],
   "source": [
    "# Carga el dataset 'California housing' y realiza un modelo de regresión Ridge de la mediana de los valores de las casas (Y-respuesta) con las\n",
    "# variables restantes, numéricas y categóricas, del dataset.\n",
    "# a) Con el hiperparámetros de encogimiento alpha = 1.\n",
    "# b) Con el hiperparámetros de encogimiento alpha = 10^4.\n",
    "# c) Compara ambos modelos con el modelo de regresión lineal múltiple. ¿Qué se observa?"
   ]
  },
  {
   "cell_type": "code",
   "execution_count": 18,
   "id": "aa8cc206-a5a9-4d30-b81a-fc27170fa6b2",
   "metadata": {},
   "outputs": [
    {
     "data": {
      "text/plain": [
       "array([[-1.32783522,  1.05254828,  0.98214266, ...,  0.        ,\n",
       "         1.        ,  0.        ],\n",
       "       [-1.32284391,  1.04318455, -0.60701891, ...,  0.        ,\n",
       "         1.        ,  0.        ],\n",
       "       [-1.33282653,  1.03850269,  1.85618152, ...,  0.        ,\n",
       "         1.        ,  0.        ],\n",
       "       ...,\n",
       "       [-0.8237132 ,  1.77823747, -0.92485123, ...,  0.        ,\n",
       "         0.        ,  0.        ],\n",
       "       [-0.87362627,  1.77823747, -0.84539315, ...,  0.        ,\n",
       "         0.        ,  0.        ],\n",
       "       [-0.83369581,  1.75014627, -1.00430931, ...,  0.        ,\n",
       "         0.        ,  0.        ]])"
      ]
     },
     "execution_count": 18,
     "metadata": {},
     "output_type": "execute_result"
    }
   ],
   "source": [
    "# Apartado a)\n",
    "# Se repite el procedimiento seguido en el ejercicio 5.2., en el que se construye el modelo con todas las variables realizando imputación y \n",
    "# estandarización\n",
    "\n",
    "import pandas as pd\n",
    "from sklearn.impute import SimpleImputer # Para imputación\n",
    "from sklearn.preprocessing import StandardScaler # Para estandarización\n",
    "from sklearn.pipeline import Pipeline # Para combinar imputación y estandarización\n",
    "from sklearn.preprocessing import OneHotEncoder # Para crear variable indicadora\n",
    "from sklearn.compose import ColumnTransformer # Para considerar la variable categórica en la imputación y estandarización\n",
    "\n",
    "housing = pd.read_csv('datasets/housing/housing.csv')\n",
    "\n",
    "# Variable respuesta\n",
    "respuesta = housing['median_house_value'].copy()\n",
    "housing = housing.drop('median_house_value', axis=1)\n",
    "\n",
    "# Variables numéricas\n",
    "housing_num = housing.drop('ocean_proximity', axis=1)\n",
    "\n",
    "# Imputación y estandarización de las variables numéricas\n",
    "num_pipeline = Pipeline([\n",
    "    ('imputador', SimpleImputer(strategy='median')),\n",
    "    ('std_scaler', StandardScaler()),\n",
    "])\n",
    "housing_num_tr = num_pipeline.fit_transform(housing_num) # Se aplica pipeline\n",
    "\n",
    "# Nombre de variables numéricas\n",
    "num_attribs = list(housing_num)\n",
    "\n",
    "# Nombre de variable categórica\n",
    "cat_attribs = ['ocean_proximity']\n",
    "\n",
    "# Se añade la variable categórica al proceso de imputación y estandarización. Se añade una de las variables categóricas en el intercepto \n",
    "# (drop='first')\n",
    "full_pipeline = ColumnTransformer([\n",
    "    ('num', num_pipeline, num_attribs),\n",
    "    ('cat', OneHotEncoder(drop='first'), cat_attribs)\n",
    "])\n",
    "housing_prepared = full_pipeline.fit_transform(housing) # Se aplica pipeline\n",
    "housing_prepared"
   ]
  },
  {
   "cell_type": "code",
   "execution_count": 20,
   "id": "bf7dbc0e-e37d-41d5-a131-bc445795897e",
   "metadata": {},
   "outputs": [
    {
     "name": "stdout",
     "output_type": "stream",
     "text": [
      "Coeficientes del modelo de regresión Ridge:\n",
      "Intercepto: 219251.8547047686\n",
      "Beta: [-52925.7575442  -53744.69781116  13319.85812079 -10293.66412867\n",
      "  29937.78985234 -44479.43818497  29692.21439608  73624.96037269\n",
      " -39789.87191589 130031.63921427  -3697.62935336   4750.43033774]\n"
     ]
    }
   ],
   "source": [
    "# Ya estamos en condiciones de realizar la regresión Ridge. Se requiere importar la clase Ridge de la librería 'sklearn'.\n",
    "from sklearn.linear_model import Ridge\n",
    "\n",
    "ridge_reg = Ridge(alpha=1, solver='auto')\n",
    "ridge_reg.fit(housing_prepared, respuesta)\n",
    "\n",
    "print('Coeficientes del modelo de regresión Ridge:')\n",
    "print('Intercepto:', ridge_reg.intercept_)\n",
    "print('Beta:', ridge_reg.coef_)"
   ]
  },
  {
   "cell_type": "code",
   "execution_count": 24,
   "id": "caf4aa5f-a013-405f-8ecd-4340c3004cd4",
   "metadata": {},
   "outputs": [],
   "source": [
    "# alpha = 1 no aplica apenas penalización y los resultados obtenidos son prácticamente los mismos que se obtenían en el ejercicio 5.2."
   ]
  },
  {
   "cell_type": "code",
   "execution_count": 26,
   "id": "24dd4b32-8d47-4f6e-91a4-23591eef5c96",
   "metadata": {},
   "outputs": [
    {
     "name": "stdout",
     "output_type": "stream",
     "text": [
      "Coeficientes del modelo de regresión Ridge:\n",
      "Intercepto: 213248.32449961072\n",
      "Beta: [ -9760.89761151 -12228.34267466  11199.36514172   5640.33695302\n",
      "   4851.91951441  -9762.34854409   5734.63871066  50971.33381983\n",
      " -24316.41748776     89.44198348   5253.33235919   5765.58163202]\n"
     ]
    }
   ],
   "source": [
    "# Apartado b)\n",
    "# Se toma ahora alpha = 10^4.\n",
    "\n",
    "ridge_reg_b = Ridge(alpha=1e4, solver='auto')\n",
    "ridge_reg_b.fit(housing_prepared, respuesta)\n",
    "print('Coeficientes del modelo de regresión Ridge:')\n",
    "print('Intercepto:', ridge_reg_b.intercept_)\n",
    "print('Beta:', ridge_reg_b.coef_)"
   ]
  },
  {
   "cell_type": "code",
   "execution_count": 28,
   "id": "e29284d5-565f-4453-a876-19f73f2f8a2a",
   "metadata": {},
   "outputs": [],
   "source": [
    "# Se observa que el intercepto se mantiene más o menos en el mismo valor y que la mayoría de coeficientes disminuyen, aunque unos lo hacen más que\n",
    "# otros."
   ]
  },
  {
   "cell_type": "code",
   "execution_count": 42,
   "id": "52bc8bdf-2af2-48b0-84da-13aa10a799f8",
   "metadata": {},
   "outputs": [
    {
     "name": "stdout",
     "output_type": "stream",
     "text": [
      "[ 0  1  2  3  4  5  6  7  8  9 10 11]\n",
      "[0.25, 1.25, 2.25, 3.25, 4.25, 5.25, 6.25, 7.25, 8.25, 9.25, 10.25, 11.25]\n",
      "[0.5, 1.5, 2.5, 3.5, 4.5, 5.5, 6.5, 7.5, 8.5, 9.5, 10.5, 11.5]\n"
     ]
    }
   ],
   "source": [
    "# Apartado c)\n",
    "# Comparamos los resultados anteriores con aquellos proporcionados por el modelo de regresión lineal múltiple no penalizado.\n",
    "# Para ello, empezamos construyendo el modelo sin penalizar. La comparación se muestra en un diagrama de barras.\n",
    "\n",
    "from sklearn.linear_model import LinearRegression\n",
    "import matplotlib.pyplot as plt\n",
    "import numpy as np\n",
    "\n",
    "# Modelo sin penalizar\n",
    "lm = LinearRegression()\n",
    "lm.fit(housing_prepared, respuesta)\n",
    "\n",
    "# Representación gráfica\n",
    "barWidth = 0.25 # Ancho barras\n",
    "r1 = np.arange(len(lm.coef_)) # Array [0, 1, 2, ..., len(lm.coef_)-1] para ubicar las barras en el diagrama\n",
    "r2 = [x + barWidth for x in r1] # Ubicación de las barras correspondientes a la regresión Ridge_a\n",
    "r3 = [x + barWidth for x in r2] # Ubicación de las barras correspondientes a la regresión Ridge_b\n",
    "print(r1)\n",
    "print(r2)\n",
    "print(r3)"
   ]
  },
  {
   "cell_type": "code",
   "execution_count": 44,
   "id": "f0fe6009-0fe0-45bd-b750-c2ba2bbb543e",
   "metadata": {},
   "outputs": [
    {
     "data": {
      "image/png": "[encoded data removed]",
      "text/plain": [
       "<Figure size 800x800 with 1 Axes>"
      ]
     },
     "metadata": {},
     "output_type": "display_data"
    }
   ],
   "source": [
    "fig = plt.figure(figsize=(8,8))\n",
    "plt.bar(r1, lm.coef_, color='blue', width=barWidth, edgecolor='white', label='Sin penalización')\n",
    "plt.bar(r2, ridge_reg.coef_, color='red', width=barWidth, edgecolor='white', label='Ridge a')\n",
    "plt.bar(r3, ridge_reg_b.coef_, color='green', width=barWidth, edgecolor='white', label='Ridge b')\n",
    "plt.xticks([x + barWidth for x in range(len(lm.coef_))],\n",
    "          ['B'+str(i) for i in range(1,13)])\n",
    "plt.legend()\n",
    "plt.xlabel('Variable')\n",
    "plt.ylabel('Beta')\n",
    "plt.show(fig)"
   ]
  },
  {
   "cell_type": "code",
   "execution_count": null,
   "id": "1cd239df-5ae8-4149-a9d3-83d5cc830aa3",
   "metadata": {},
   "outputs": [],
   "source": []
  }
 ],
 "metadata": {
  "kernelspec": {
   "display_name": "Python 3 (ipykernel)",
   "language": "python",
   "name": "python3"
  },
  "language_info": {
   "codemirror_mode": {
    "name": "ipython",
    "version": 3
   },
   "file_extension": ".py",
   "mimetype": "text/x-python",
   "name": "python",
   "nbconvert_exporter": "python",
   "pygments_lexer": "ipython3",
   "version": "3.12.4"
  }
 },
 "nbformat": 4,
 "nbformat_minor": 5
}
