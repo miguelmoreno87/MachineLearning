{
 "cells": [
  {
   "cell_type": "code",
   "execution_count": 2,
   "id": "0d515414-2bad-40c7-b7f6-e7226151e67d",
   "metadata": {},
   "outputs": [],
   "source": [
    "# a) Parece que sí que hay relación entre 'median_house_value' y 'median_income', pero ¿es estadísticamente significativa\n",
    "# con un alpha = 0.05?\n",
    "# b) Si en nuevo barrio sabemos que los ingresos medianos son 33700 $, ¿qué valor cabría esperar de la mediana del precio de las casas?"
   ]
  },
  {
   "cell_type": "code",
   "execution_count": 2,
   "id": "d609c20a-fdf0-4f4a-a51a-8b98c2d9c6fa",
   "metadata": {},
   "outputs": [
    {
     "name": "stdout",
     "output_type": "stream",
     "text": [
      "El intervalo de confianza de la pendiente es: [ 41192.509924278165 , 42395.18847951436 ]\n"
     ]
    }
   ],
   "source": [
    "# Apartado a)\n",
    "\n",
    "import pandas as pd\n",
    "import numpy as np\n",
    "from sklearn import linear_model # Para el ajuste\n",
    "\n",
    "# Se comienza cargando el dataset\n",
    "housing = pd.read_csv('datasets/housing/housing.csv')\n",
    "\n",
    "# Se extrae la variable dependiente/respuesta\n",
    "y = housing['median_house_value']\n",
    "y = y.values.reshape(-1,1) # Vector columna\n",
    "\n",
    "# Variable independiente/predictora\n",
    "x = housing['median_income']\n",
    "x = x.values.reshape(-1,1)\n",
    "\n",
    "# Objeto para la regresión\n",
    "lm = linear_model.LinearRegression()\n",
    "\n",
    "# Ajuste\n",
    "lm.fit(x,y)\n",
    "\n",
    "# Valor teórico\n",
    "y_pred = lm.predict(x)\n",
    "\n",
    "# Residuos al cuadrado\n",
    "residuo = (y - y_pred)**2\n",
    "\n",
    "# Se establece si X es significativa en la predicción de Y hallando el intervalo de confianza de la pendiente; b1+-1.96*s_b1. Se aproxima el valor\n",
    "# de la distribución de Student con n-2 grados de libertad y alpha = 0.05 por 1.96. s_b1 = s2/den\n",
    "s2 = sum(residuo)/(len(y)-2) # Estimación de la varianza por OLS (s^2)\n",
    "den = np.var(x)*len(x)\n",
    "s_b1 = (s2/den)**0.5\n",
    "print('El intervalo de confianza de la pendiente es: [', lm.coef_[0][0]-1.96*s_b1[0], ',', lm.coef_[0][0]+1.96*s_b1[0], ']')"
   ]
  },
  {
   "cell_type": "code",
   "execution_count": 24,
   "id": "0b66451d-45a1-4a80-9bc3-a1edf4966e9c",
   "metadata": {},
   "outputs": [],
   "source": [
    "# El intervalo de confianza no incluye el cero, por lo que la asociación entre 'median_house_value' y 'median_income' es estadísticamente\n",
    "# significativa."
   ]
  },
  {
   "cell_type": "code",
   "execution_count": 34,
   "id": "5fd0bffb-1fd2-46fa-bd2c-c6cc1399248a",
   "metadata": {},
   "outputs": [
    {
     "name": "stdout",
     "output_type": "stream",
     "text": [
      "El precio mediano de la nueva vivienda es: 1453538.2948071724\n"
     ]
    }
   ],
   "source": [
    "# Apartado b)\n",
    "\n",
    "# Se debe construir la ecuación de la recta del ajuste y luego sustituir el nuevo valor de la variable independiente\n",
    "b1 = lm.coef_[0][0] # Pendiente\n",
    "b0 = lm.intercept_[0] # Ordenada en el origen\n",
    "x_nueva = 33.7 # Porque 'median_income' se da en miles de dólares\n",
    "y_nueva = b0 + b1*x_nueva # Ecuación de la recta\n",
    "print('El precio mediano de la nueva vivienda es:', y_nueva) "
   ]
  }
 ],
 "metadata": {
  "kernelspec": {
   "display_name": "Python 3 (ipykernel)",
   "language": "python",
   "name": "python3"
  },
  "language_info": {
   "codemirror_mode": {
    "name": "ipython",
    "version": 3
   },
   "file_extension": ".py",
   "mimetype": "text/x-python",
   "name": "python",
   "nbconvert_exporter": "python",
   "pygments_lexer": "ipython3",
   "version": "3.12.4"
  }
 },
 "nbformat": 4,
 "nbformat_minor": 5
}
