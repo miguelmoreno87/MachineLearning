{
 "cells": [
  {
   "cell_type": "code",
   "execution_count": 6,
   "id": "2238a515-da82-4dec-983f-5d03b0bdf8fd",
   "metadata": {},
   "outputs": [],
   "source": [
    "# Carga el dataset 'California housing' y define una nueva variable, 'oceano', que tomará el valor 1 si 'ocean_proximity' es <1H OCEAN o NEAR OCEAN\n",
    "# y 0 en cualquier otro caso. Una vez creada la variable:\n",
    "# a) Ajusta el modelo de regresión logística con el precio de la casa como predictor de esta variable binomial que has creado.\n",
    "# b) Si una nueva casa cuesta 250,000 $, ¿en qué categoría de variable 'oceano' la clasificarías?"
   ]
  },
  {
   "cell_type": "code",
   "execution_count": 20,
   "id": "c234bd26-9461-4ed4-8d67-85d2fa0239a1",
   "metadata": {},
   "outputs": [
    {
     "name": "stdout",
     "output_type": "stream",
     "text": [
      "<class 'pandas.core.frame.DataFrame'>\n",
      "RangeIndex: 20640 entries, 0 to 20639\n",
      "Data columns (total 11 columns):\n",
      " #   Column              Non-Null Count  Dtype  \n",
      "---  ------              --------------  -----  \n",
      " 0   longitude           20640 non-null  float64\n",
      " 1   latitude            20640 non-null  float64\n",
      " 2   housing_median_age  20640 non-null  float64\n",
      " 3   total_rooms         20640 non-null  float64\n",
      " 4   total_bedrooms      20433 non-null  float64\n",
      " 5   population          20640 non-null  float64\n",
      " 6   households          20640 non-null  float64\n",
      " 7   median_income       20640 non-null  float64\n",
      " 8   median_house_value  20640 non-null  float64\n",
      " 9   ocean_proximity     20640 non-null  object \n",
      " 10  oceano              20640 non-null  int64  \n",
      "dtypes: float64(9), int64(1), object(1)\n",
      "memory usage: 1.7+ MB\n",
      "None\n"
     ]
    }
   ],
   "source": [
    "# Apartado a)\n",
    "# Se comienza cargando el datatset\n",
    "import pandas as pd\n",
    "\n",
    "housing = pd.read_csv('datasets/housing/housing.csv')\n",
    "\n",
    "# Se crea la variable categórica binomial 'oceano'. Se añade como otra columna del dataframe.\n",
    "housing['oceano'] = [1 if x=='<1H OCEAN' or x=='NEAR OCEAN' else 0 for x in housing['ocean_proximity']]\n",
    "\n",
    "# Se muestra la información del dataframe\n",
    "print(housing.info())"
   ]
  },
  {
   "cell_type": "code",
   "execution_count": 22,
   "id": "a20a99a1-67d6-4840-a7d3-145dfc1afcaf",
   "metadata": {},
   "outputs": [
    {
     "name": "stdout",
     "output_type": "stream",
     "text": [
      "ocean_proximity\n",
      "<1H OCEAN     9136\n",
      "INLAND        6551\n",
      "NEAR OCEAN    2658\n",
      "NEAR BAY      2290\n",
      "ISLAND           5\n",
      "Name: count, dtype: int64\n"
     ]
    }
   ],
   "source": [
    "# Se comprueba que la asignación de 0 y 1 para la variable 'oceano' es correcta\n",
    "print(housing['ocean_proximity'].value_counts())"
   ]
  },
  {
   "cell_type": "code",
   "execution_count": 24,
   "id": "416991e1-aaea-499f-91dd-861ef4181d57",
   "metadata": {},
   "outputs": [
    {
     "name": "stdout",
     "output_type": "stream",
     "text": [
      "oceano\n",
      "1    11794\n",
      "0     8846\n",
      "Name: count, dtype: int64\n"
     ]
    }
   ],
   "source": [
    "print(housing['oceano'].value_counts())"
   ]
  },
  {
   "cell_type": "code",
   "execution_count": 40,
   "id": "294c66f4-0a15-4c5c-b205-c467afa53056",
   "metadata": {},
   "outputs": [
    {
     "name": "stdout",
     "output_type": "stream",
     "text": [
      "El intercepto es: [0.37649097]\n",
      "El parámetro beta1 es: [[0.89456085]]\n"
     ]
    }
   ],
   "source": [
    "# Creamos el modelo de regresión logística. Se usa como variable predictora la variable numérica 'median_house_value'. Se usa la clase\n",
    "# 'LogisticRegression' de la librería 'sklearn'. Previamente se estandariza la variable predictora.\n",
    "from sklearn.linear_model import LogisticRegression\n",
    "from sklearn.preprocessing import StandardScaler\n",
    "\n",
    "# Variable predictora\n",
    "x = housing['median_house_value'].values.reshape(-1,1)\n",
    "\n",
    "# Estandarización de la variable predictora\n",
    "scaler = StandardScaler()\n",
    "scaler.fit(x)\n",
    "x_prepared = scaler.transform(x)\n",
    "\n",
    "# Variable respuesta\n",
    "y = housing['oceano'].values.reshape(-1,1).ravel()\n",
    "\n",
    "# Objeto para la regresión logística\n",
    "logistic_reg = LogisticRegression()\n",
    "\n",
    "# Ajuste del modelo\n",
    "logistic_reg.fit(x_prepared,y)\n",
    "\n",
    "print('El intercepto es:', logistic_reg.intercept_)\n",
    "print('El parámetro beta1 es:', logistic_reg.coef_)"
   ]
  },
  {
   "cell_type": "code",
   "execution_count": 45,
   "id": "ce18ff6e-660f-4f72-882a-b6d5c13ca11c",
   "metadata": {},
   "outputs": [],
   "source": [
    "# Como el coeficiente beta1 es positivo, un incremento del precio de las casas (variable predictora) se traduce en una mayor probabilidad de que la\n",
    "# variable oceano sea de categoría 1."
   ]
  },
  {
   "cell_type": "code",
   "execution_count": 49,
   "id": "df5042cd-1106-4a5e-97f9-b87e98436aee",
   "metadata": {},
   "outputs": [
    {
     "name": "stdout",
     "output_type": "stream",
     "text": [
      "[1]\n"
     ]
    }
   ],
   "source": [
    "# Apartado b)\n",
    "x_nueva = [[250000]] # Se introduce entre dos pares de corchetes porque es como se saca la variable 'x' del dataframe\n",
    "\n",
    "# Se estandariza la nueva observación\n",
    "x_nueva_prepared = scaler.transform(x_nueva)\n",
    "\n",
    "# Predicción de la nueva casa\n",
    "clase_predicha = logistic_reg.predict(x_nueva_prepared)\n",
    "print(clase_predicha)"
   ]
  },
  {
   "cell_type": "code",
   "execution_count": 51,
   "id": "90e0de00-4e53-4c9c-b3ce-34397a6ecdb8",
   "metadata": {},
   "outputs": [
    {
     "name": "stdout",
     "output_type": "stream",
     "text": [
      "[[0.32938719 0.67061281]]\n"
     ]
    }
   ],
   "source": [
    "# El modelo de regresión indica que para el precio introducido la variable 'oceano' es probablemente de clase 1. Si se quiere obtener la probabilidad\n",
    "# se introduce el siguiente comando.\n",
    "print(logistic_reg.predict_proba(x_nueva_prepared))"
   ]
  },
  {
   "cell_type": "code",
   "execution_count": 53,
   "id": "3b50958d-d9fd-4875-a6b1-3283cb3f381a",
   "metadata": {},
   "outputs": [],
   "source": [
    "# El primer resultado es la probabilidad de que 'oceano' valga 0 y el segundo la probabilidad de que valga 1."
   ]
  }
 ],
 "metadata": {
  "kernelspec": {
   "display_name": "Python 3 (ipykernel)",
   "language": "python",
   "name": "python3"
  },
  "language_info": {
   "codemirror_mode": {
    "name": "ipython",
    "version": 3
   },
   "file_extension": ".py",
   "mimetype": "text/x-python",
   "name": "python",
   "nbconvert_exporter": "python",
   "pygments_lexer": "ipython3",
   "version": "3.12.4"
  }
 },
 "nbformat": 4,
 "nbformat_minor": 5
}
