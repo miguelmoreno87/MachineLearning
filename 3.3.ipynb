{
 "cells": [
  {
   "cell_type": "code",
   "execution_count": 1,
   "id": "535d3ac8-a79b-4b1f-b01e-19b3f7fda735",
   "metadata": {},
   "outputs": [],
   "source": [
    "# a) Divide el dataset 'California Housing' en un dataset de entrenamiento (70%) y en un dataset de test (30%).\n",
    "# b) Divide el dataset de 'California Housing' en 10 particiones listas para poder realizar validación cruzada."
   ]
  },
  {
   "cell_type": "code",
   "execution_count": 31,
   "id": "c44bdd9d-63ff-46b2-8e7e-449a56af8519",
   "metadata": {},
   "outputs": [
    {
     "name": "stdout",
     "output_type": "stream",
     "text": [
      "14448.0\n",
      "14448\n",
      "6192.0\n",
      "6192\n"
     ]
    }
   ],
   "source": [
    "# Apartado a)\n",
    "\n",
    "import pandas as pd\n",
    "import numpy as np\n",
    "\n",
    "# Comenzamos importando el dataset (ya descargado con el ejercicio 3.1.)\n",
    "housing = pd.read_csv('datasets/housing/housing.csv')\n",
    "\n",
    "# Semilla\n",
    "np.random.seed(seed=3)\n",
    "\n",
    "# Función para crear dataset de entrenamiento y dataset de test\n",
    "# 'dataset' es el dataframe y 'test_part' es la proporción en tanto por un 1 para el detaset de test.\n",
    "def particiones(dataset, test_part):\n",
    "    \n",
    "    # 'int' se queda con la parte entera, como math.floor. Con len(dataset) se calcula la longitud de cada columna\n",
    "    test_part_size = int(len(dataset)*test_part)\n",
    "\n",
    "    # Crea un array con los índices de 'dataset' dispuestos de forma aleatoria\n",
    "    mezclar_indices = np.random.permutation(len(dataset))\n",
    "\n",
    "    # Se queda con tantos índices del array anterior como datos debe haber en el dataset de test\n",
    "    test_indices = mezclar_indices[:test_part_size]\n",
    "\n",
    "    # Los índices restantes son para los datos del dataset de entrenamiento\n",
    "    train_indices = mezclar_indices[test_part_size:]\n",
    "\n",
    "    # Se devuelven los dataset de entrenamiento y de test. 'iloc' saca filas\n",
    "    return dataset.iloc[train_indices], dataset.iloc[test_indices]\n",
    "\n",
    "# Se llama a la función\n",
    "train_set, test_set = particiones(housing, 0.3)\n",
    "\n",
    "# Se comprueba que la partición es correcta calculando la cantidad de datos en cada conjunto\n",
    "print(round(len(housing)*0.7,0)) # Cantidad teórica de datos en dataset de entrenamiento\n",
    "print(len(train_set)) # Cantidad de datos en el dataset de entrenamiento creado\n",
    "print(round(len(housing)*0.3,0)) # Cantidad teórica de datos en dataset de test\n",
    "print(len(test_set)) # Cantidad de datos en el dataset de test creado"
   ]
  },
  {
   "cell_type": "code",
   "execution_count": 37,
   "id": "095c4e12-6ec8-4f12-a573-f75cf78185be",
   "metadata": {},
   "outputs": [
    {
     "name": "stdout",
     "output_type": "stream",
     "text": [
      "2064\n",
      "2064\n",
      "       longitude  latitude  housing_median_age  total_rooms  total_bedrooms  \\\n",
      "16104    -122.50     37.75                45.0       1620.0             NaN   \n",
      "11352    -117.92     33.75                23.0        893.0           223.0   \n",
      "13062    -121.32     38.57                15.0       3369.0           499.0   \n",
      "325      -122.19     37.74                43.0        707.0           147.0   \n",
      "2664     -123.78     40.05                17.0       2019.0           496.0   \n",
      "\n",
      "       population  households  median_income  median_house_value  \\\n",
      "16104       941.0       328.0         4.3859            270200.0   \n",
      "11352      1149.0       216.0         2.6442            156300.0   \n",
      "13062      1733.0       470.0         5.3100            127500.0   \n",
      "325         417.0       155.0         2.5139             83400.0   \n",
      "2664        899.0       347.0         2.1864            101900.0   \n",
      "\n",
      "      ocean_proximity  \n",
      "16104      NEAR OCEAN  \n",
      "11352       <1H OCEAN  \n",
      "13062          INLAND  \n",
      "325          NEAR BAY  \n",
      "2664        <1H OCEAN  \n"
     ]
    }
   ],
   "source": [
    "# Apartado b)\n",
    "\n",
    "# Definimos número de partes\n",
    "n = 10\n",
    "part_size = int(len(housing)/n) # Cantidad de elementos en cada parte (puede que haya más elementos en una parte que otra)\n",
    "mezclar_indices = np.random.permutation(len(housing)) # Se barajan los índices de fila del dataframe\n",
    "part_cv = dict() # Diccionario vacío para guardar cada parte posteriormente\n",
    "\n",
    "for i in range(1,n+1):\n",
    "    part_i = mezclar_indices[(i-1)*part_size:i*part_size] # Índices para la parte i-ésima\n",
    "    part_cv['parte_'+str(i)]=housing.iloc[part_i] # La parte i-ésima se guarda en el diccionario\n",
    "    \n",
    "# Comprobaciones\n",
    "print(len(part_cv['parte_1']))\n",
    "print(len(part_cv['parte_10']))\n",
    "print(part_cv['parte_10'].iloc[:5])"
   ]
  }
 ],
 "metadata": {
  "kernelspec": {
   "display_name": "Python 3 (ipykernel)",
   "language": "python",
   "name": "python3"
  },
  "language_info": {
   "codemirror_mode": {
    "name": "ipython",
    "version": 3
   },
   "file_extension": ".py",
   "mimetype": "text/x-python",
   "name": "python",
   "nbconvert_exporter": "python",
   "pygments_lexer": "ipython3",
   "version": "3.12.4"
  }
 },
 "nbformat": 4,
 "nbformat_minor": 5
}
