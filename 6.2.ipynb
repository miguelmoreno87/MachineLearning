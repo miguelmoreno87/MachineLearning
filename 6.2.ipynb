{
 "cells": [
  {
   "cell_type": "code",
   "execution_count": 2,
   "id": "40fbed22-9c79-4415-b023-0476b3cc2a4d",
   "metadata": {},
   "outputs": [],
   "source": [
    "# Sobre el dataset 'California housing', realiza un modelo de regresión LASSO de la mediana de los valores de las casas (Y-respuesta) con las\n",
    "# variables restantes, numéricas y categóricas, del dataset.\n",
    "# a) Con el parámetro de encogimiento alpha=1.\n",
    "# b) Con el parámetro de encogimiento alpha=10^4.\n",
    "# c) Compara ambos modelos con el modelo de regresión lineal múltiple. ¿Qué se observa?"
   ]
  },
  {
   "cell_type": "code",
   "execution_count": 12,
   "id": "e8495154-1505-4695-9862-ef15d228077b",
   "metadata": {},
   "outputs": [],
   "source": [
    "# Apartado a)\n",
    "# Se comienza al igual que en el ejercicio 6.1. Primero se carga el dataset, luego se separa la variable respuesta de las predictoras. Entre las \n",
    "# variables predictoras se separa entre categóricas y numéricas. Se lleva a cabo imputación, seguido de estandarización, mediante la clase Pipeline\n",
    "# de las variables numéricas. Se crea variable indicadora asocidada a la variable categórica mediante la clase OneHotEncoder. Finalmente, se juntan\n",
    "# variables numéricas con la categórica, de nuevo, mediante la clase ColumnTransformer.\n",
    "\n",
    "import pandas as pd\n",
    "from sklearn.impute import SimpleImputer # Para imputación\n",
    "from sklearn.preprocessing import StandardScaler # Para estandarización\n",
    "from sklearn.pipeline import Pipeline # Para combinar imputación y estandarización\n",
    "from sklearn.preprocessing import OneHotEncoder # Para crear variable indicadora\n",
    "from sklearn.compose import ColumnTransformer # Para considerar la variable categórica en la imputación y estandarización\n",
    "\n",
    "housing = pd.read_csv('datasets/housing/housing.csv')\n",
    "\n",
    "# Variable respuesta\n",
    "respuesta = housing['median_house_value'].copy()\n",
    "housing = housing.drop('median_house_value', axis=1)\n",
    "\n",
    "# Variables numéricas\n",
    "housing_num = housing.drop('ocean_proximity', axis=1)\n",
    "\n",
    "# Imputación y estandarización de las variables numéricas\n",
    "num_pipeline = Pipeline([\n",
    "    ('imputador', SimpleImputer(strategy='median')),\n",
    "    ('std_scaler', StandardScaler()),\n",
    "])\n",
    "housing_num_tr = num_pipeline.fit_transform(housing_num) # Se aplica pipeline\n",
    "\n",
    "# Nombre de variables numéricas\n",
    "num_attribs = list(housing_num)\n",
    "\n",
    "# Nombre de variable categórica\n",
    "cat_attribs = ['ocean_proximity']\n",
    "\n",
    "# Se añade la variable categórica al proceso de imputación y estandarización. Se añade una de las variables categóricas en el intercepto \n",
    "# (drop='first')\n",
    "full_pipeline = ColumnTransformer([\n",
    "    ('num', num_pipeline, num_attribs),\n",
    "    ('cat', OneHotEncoder(drop='first'), cat_attribs)\n",
    "])\n",
    "housing_prepared = full_pipeline.fit_transform(housing) # Se aplica pipeline"
   ]
  },
  {
   "cell_type": "code",
   "execution_count": 18,
   "id": "4f4f6457-0ffc-4a14-bcea-e235f94b3229",
   "metadata": {},
   "outputs": [
    {
     "name": "stdout",
     "output_type": "stream",
     "text": [
      "Coeficientes del modelo de regresión LASSO:\n",
      "Intercepto: 219239.371611401\n",
      "Beta: [-52936.10528879 -53753.78630134  13312.79044653 -10299.69365603\n",
      "  29909.69564186 -44483.79617817  29730.65349082  73630.76579416\n",
      " -39774.84408823 151938.98956871  -3679.84442713   4753.79358651]\n"
     ]
    }
   ],
   "source": [
    "# Ahora ya se puede realizar la regresión LASSO. Para ello se emplea la clase Lasso de la librería 'sklearn'.\n",
    "from sklearn.linear_model import Lasso\n",
    "\n",
    "lasso_reg = Lasso(alpha=1)\n",
    "lasso_reg.fit(housing_prepared, respuesta)\n",
    "\n",
    "print('Coeficientes del modelo de regresión LASSO:')\n",
    "print('Intercepto:', lasso_reg.intercept_)\n",
    "print('Beta:', lasso_reg.coef_)"
   ]
  },
  {
   "cell_type": "code",
   "execution_count": 21,
   "id": "fdb9e8a4-d66b-4d63-86d3-bf327580eb98",
   "metadata": {},
   "outputs": [],
   "source": [
    "# alpha = 1 no aplica apenas penalización y los resultados obtenidos son prácticamente los mismos que se obtenían en el ejercicio 5.2."
   ]
  },
  {
   "cell_type": "code",
   "execution_count": 26,
   "id": "52fb8905-526d-4de6-967c-f95d9dc9b45c",
   "metadata": {},
   "outputs": [
    {
     "name": "stdout",
     "output_type": "stream",
     "text": [
      "Coeficientes del modelo de regresión LASSO:\n",
      "Intercepto: 218717.12395482304\n",
      "Beta: [    -0.             -0.           5925.06123247      0.\n",
      "      0.             -0.              0.          65973.15122729\n",
      " -37370.99334873      0.              0.              0.        ]\n"
     ]
    }
   ],
   "source": [
    "# Apartado b)\n",
    "# Se toma ahora alpha = 10^4.\n",
    "\n",
    "lasso_reg_b = Lasso(alpha=1e4)\n",
    "lasso_reg_b.fit(housing_prepared, respuesta)\n",
    "\n",
    "print('Coeficientes del modelo de regresión LASSO:')\n",
    "print('Intercepto:', lasso_reg_b.intercept_)\n",
    "print('Beta:', lasso_reg_b.coef_)"
   ]
  },
  {
   "cell_type": "code",
   "execution_count": 28,
   "id": "70d87ffb-853f-471a-bfa3-a0606f02e29c",
   "metadata": {},
   "outputs": [],
   "source": [
    "# Muchos coeficientes son ahora cero, lo cual permite considerarlas como variables no significativas en ausencia de colinealidad."
   ]
  },
  {
   "cell_type": "code",
   "execution_count": 34,
   "id": "8ee27b5a-a914-4e7c-ae3a-b1151f57f394",
   "metadata": {},
   "outputs": [
    {
     "data": {
      "image/png": "[encoded data removed]",
      "text/plain": [
       "<Figure size 800x800 with 1 Axes>"
      ]
     },
     "metadata": {},
     "output_type": "display_data"
    }
   ],
   "source": [
    "# Apartado c)\n",
    "# Comparamos los resultados del apartado b  con aquellos proporcionados por el modelo de regresión lineal múltiple no penalizado y la regresión Ridge.\n",
    "# Para ello, empezamos construyendo el modelo sin penalizar. La comparación se muestra en un diagrama de barras.\n",
    "\n",
    "from sklearn.linear_model import LinearRegression\n",
    "import matplotlib.pyplot as plt\n",
    "import numpy as np\n",
    "from sklearn.linear_model import Ridge\n",
    "\n",
    "# Modelo sin penalizar\n",
    "lm = LinearRegression()\n",
    "lm.fit(housing_prepared, respuesta)\n",
    "\n",
    "# Modelo de regresión Ridge (apartado b del ejercicio 6.1.)\n",
    "ridge_reg = Ridge(alpha=1e4, solver='auto')\n",
    "ridge_reg.fit(housing_prepared, respuesta)\n",
    "\n",
    "# Representación gráfica\n",
    "barWidth = 0.25 # Ancho barras\n",
    "r1 = np.arange(len(lm.coef_)) # Array [0, 1, 2, ..., len(lm.coef_)-1] para ubicar las barras en el diagrama\n",
    "r2 = [x + barWidth for x in r1] # Ubicación de las barras correspondientes a la regresión Ridge\n",
    "r3 = [x + barWidth for x in r2] # Ubicación de las barras correspondientes a la regresión LASSO\n",
    "fig = plt.figure(figsize=(8,8))\n",
    "plt.bar(r1, lm.coef_, color='blue', width=barWidth, edgecolor='white', label='Sin penalización')\n",
    "plt.bar(r2, ridge_reg.coef_, color='red', width=barWidth, edgecolor='white', label='Ridge alpha=10000')\n",
    "plt.bar(r3, lasso_reg_b.coef_, color='green', width=barWidth, edgecolor='white', label='Lasso alpha=10000')\n",
    "plt.xticks([x + barWidth for x in range(len(lm.coef_))],\n",
    "          ['B'+str(i) for i in range(1,13)])\n",
    "plt.legend()\n",
    "plt.xlabel('Variable')\n",
    "plt.ylabel('Beta')\n",
    "plt.show(fig)"
   ]
  },
  {
   "cell_type": "code",
   "execution_count": 36,
   "id": "b4416656-933b-4122-a068-11d51000930f",
   "metadata": {},
   "outputs": [],
   "source": [
    "# Es importante notar que, aunque para la regresión LASSO desaparezcan algunas variables, en otras se estima un coeficiente más alto que el\n",
    "# correspondiente obtenido mediante Ridge y casi tan alto como el que predice el modelo sin penalización. Esto es debido a que cuando dos variables\n",
    "# están correlacionadas, la regresión LASSO tiende a descartar una variable y a ajustar la otra. "
   ]
  }
 ],
 "metadata": {
  "kernelspec": {
   "display_name": "Python 3 (ipykernel)",
   "language": "python",
   "name": "python3"
  },
  "language_info": {
   "codemirror_mode": {
    "name": "ipython",
    "version": 3
   },
   "file_extension": ".py",
   "mimetype": "text/x-python",
   "name": "python",
   "nbconvert_exporter": "python",
   "pygments_lexer": "ipython3",
   "version": "3.12.4"
  }
 },
 "nbformat": 4,
 "nbformat_minor": 5
}
