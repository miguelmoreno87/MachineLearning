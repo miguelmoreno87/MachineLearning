{
 "cells": [
  {
   "cell_type": "code",
   "execution_count": 20,
   "id": "7f46d8b1-f5a8-4a9b-acb3-29ce0745f962",
   "metadata": {},
   "outputs": [],
   "source": [
    "# A partir del conjunto de datos creado en el ejercicio 7.1.\n",
    "# a) Ajusta el modelo de regresión logística múltiple con todas las variables del dataset excepto 'ocean_proximity', 'longitude' y 'latitude', como\n",
    "# predictoras de la variable 'oceano'.\n",
    "# b) ¿Qué probabilidad tendría una casa con las siguientes características de ser oceano=1?\n",
    "# housing_median_age = 35 \n",
    "# total_rooms = 5000\n",
    "# total_bedrooms = 1200\n",
    "# population = 100000\n",
    "# households = 1000\n",
    "# median_income = 10 (decenas de miles de dólares)\n",
    "# median_house_value = 250000"
   ]
  },
  {
   "cell_type": "code",
   "execution_count": 22,
   "id": "57ff1487-5064-4e58-acbb-871be121764c",
   "metadata": {},
   "outputs": [],
   "source": [
    "# Apartado a)\n",
    "# Se carga el dataset y se crea la nueva variable 'oceano'\n",
    "import pandas as pd\n",
    "\n",
    "housing = pd.read_csv('datasets/housing/housing.csv')\n",
    "\n",
    "# Se crea la variable categórica binomial 'oceano'. Se añade como otra columna del dataframe.\n",
    "housing['oceano'] = [1 if x=='<1H OCEAN' or x=='NEAR OCEAN' else 0 for x in housing['ocean_proximity']]\n",
    "\n",
    "# Se eliminan del dataset las variables 'ocean_proximity', 'longitude' y 'latitude'\n",
    "housing_num = housing.drop('ocean_proximity', axis=1)\n",
    "housing_num = housing_num.drop('longitude', axis=1)\n",
    "housing_num = housing_num.drop('latitude', axis=1)\n",
    "\n",
    "# Se elimina la variable respuesta para que en el dataset solo queden las variables predictoras\n",
    "housing_num = housing_num.drop('oceano', axis=1)"
   ]
  },
  {
   "cell_type": "code",
   "execution_count": 24,
   "id": "c3cac894-cb4b-4e76-b327-106c9c083b67",
   "metadata": {},
   "outputs": [
    {
     "name": "stdout",
     "output_type": "stream",
     "text": [
      "El intercepto es: [0.40566911]\n",
      "Los coeficientes beta son: [[-0.07383131 -2.00799946  0.12206637  1.36485265  0.52288925  0.04659429\n",
      "   1.17541298]]\n"
     ]
    }
   ],
   "source": [
    "# Se lleva a cabo imputación (faltan datos de 'total_bedrooms') + estandarización\n",
    "from sklearn.impute import SimpleImputer # Para imputación\n",
    "from sklearn.preprocessing import StandardScaler # Para estandarización\n",
    "from sklearn.pipeline import Pipeline # Para combinar estandarización e imputación\n",
    "from sklearn.compose import ColumnTransformer # Para considerar la variable categórica en la imputación y estandarización\n",
    "from sklearn.linear_model import LogisticRegression # Para regresión logística\n",
    "\n",
    "# Se define el pipeline\n",
    "num_pipeline = Pipeline([\n",
    "    ('imputador', SimpleImputer(strategy='median')),\n",
    "    ('std_scaler', StandardScaler()),\n",
    "])\n",
    "\n",
    "# Se aplica el pipeline\n",
    "housing_num_tr = num_pipeline.fit_transform(housing_num)\n",
    "\n",
    "# Nombre variables numéricas predictoras\n",
    "num_attribs = list(housing_num)\n",
    "\n",
    "# Se define el full pipeline\n",
    "full_pipeline = ColumnTransformer([\n",
    "    ('num', num_pipeline, num_attribs)\n",
    "])\n",
    "\n",
    "# Se aplica el full pipeline\n",
    "housing_prepared = full_pipeline.fit_transform(housing_num)\n",
    "\n",
    "# Variables predictoras\n",
    "x = housing_prepared\n",
    "\n",
    "# Variable respuesta\n",
    "y = housing['oceano'].values.reshape(-1,1).ravel()\n",
    "\n",
    "# Ajuste del modelo de regresión logística\n",
    "logistic_reg = LogisticRegression()\n",
    "logistic_reg.fit(x,y)\n",
    "\n",
    "print('El intercepto es:', logistic_reg.intercept_)\n",
    "print('Los coeficientes beta son:', logistic_reg.coef_)"
   ]
  },
  {
   "cell_type": "code",
   "execution_count": 26,
   "id": "9629a21e-e691-4910-b8e2-c051e2adae4a",
   "metadata": {},
   "outputs": [
    {
     "name": "stdout",
     "output_type": "stream",
     "text": [
      "Variable              Coeficiente\n",
      "------------------  -------------\n",
      "housing_median_age     -0.0738313\n",
      "total_rooms            -2.008\n",
      "total_bedrooms          0.122066\n",
      "population              1.36485\n",
      "households              0.522889\n",
      "median_income           0.0465943\n",
      "median_house_value      1.17541\n"
     ]
    }
   ],
   "source": [
    "# Se pueden presentar los resultados en forma de tabla\n",
    "from tabulate import tabulate\n",
    "\n",
    "coefs = logistic_reg.coef_.tolist()[0]\n",
    "tabla = zip(num_attribs,coefs)\n",
    "print(tabulate(tabla,headers=['Variable','Coeficiente']))"
   ]
  },
  {
   "cell_type": "code",
   "execution_count": 28,
   "id": "6010ed94-60f5-4f9e-a31b-3af489f9fe83",
   "metadata": {},
   "outputs": [
    {
     "name": "stdout",
     "output_type": "stream",
     "text": [
      "[1]\n"
     ]
    }
   ],
   "source": [
    "# Apartado b)\n",
    "# Nueva observación\n",
    "import numpy as np\n",
    "\n",
    "housing_new = pd.DataFrame(np.array([[35, 2000, 1000, 1200, 900, 10, 250000]]), columns=num_attribs)\n",
    "\n",
    "# Estandarización\n",
    "scaler = StandardScaler()\n",
    "scaler.fit(housing_num)\n",
    "housing_new_prepared = scaler.transform(housing_new)\n",
    "\n",
    "# Predicción del modelo\n",
    "clase_predicha = logistic_reg.predict(housing_new_prepared)\n",
    "print(clase_predicha)"
   ]
  },
  {
   "cell_type": "code",
   "execution_count": 30,
   "id": "cbe01855-3b89-48a3-9403-c7d1e9aa21f2",
   "metadata": {},
   "outputs": [
    {
     "name": "stdout",
     "output_type": "stream",
     "text": [
      "[[0.12420925 0.87579075]]\n"
     ]
    }
   ],
   "source": [
    "# La probabilidad proporcionada por el modelo es:\n",
    "print(logistic_reg.predict_proba(housing_new_prepared))"
   ]
  },
  {
   "cell_type": "code",
   "execution_count": 45,
   "id": "b2d72c57-6332-4ce2-bb0a-cdf8b771fa50",
   "metadata": {},
   "outputs": [],
   "source": [
    "# Al considerar más variables predictoras además de 'median_house_value', como se hizo en el ejercicio 7.1., las probabilidades de que oceano=1 para \n",
    "# la nueva observación aumentan"
   ]
  },
  {
   "cell_type": "code",
   "execution_count": 32,
   "id": "f0cb1313-c4d2-405b-9d3b-74390f55a42c",
   "metadata": {},
   "outputs": [
    {
     "data": {
      "text/plain": [
       "array([[ 0.50539419, -0.29142558,  1.09671839, -0.19910795,  1.04744666,\n",
       "         3.22634352,  0.37388967]])"
      ]
     },
     "execution_count": 32,
     "metadata": {},
     "output_type": "execute_result"
    }
   ],
   "source": [
    "housing_new_prepared"
   ]
  },
  {
   "cell_type": "code",
   "execution_count": null,
   "id": "d3480b00-d20c-4774-adf1-a6c431f397b1",
   "metadata": {},
   "outputs": [],
   "source": []
  }
 ],
 "metadata": {
  "kernelspec": {
   "display_name": "Python 3 (ipykernel)",
   "language": "python",
   "name": "python3"
  },
  "language_info": {
   "codemirror_mode": {
    "name": "ipython",
    "version": 3
   },
   "file_extension": ".py",
   "mimetype": "text/x-python",
   "name": "python",
   "nbconvert_exporter": "python",
   "pygments_lexer": "ipython3",
   "version": "3.12.4"
  }
 },
 "nbformat": 4,
 "nbformat_minor": 5
}
