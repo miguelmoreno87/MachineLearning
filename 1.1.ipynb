{
 "cells": [
  {
   "cell_type": "code",
   "execution_count": 5,
   "id": "45ce5683-3fcb-4557-badf-92bc79d589d5",
   "metadata": {},
   "outputs": [],
   "source": [
    "# Obtén con python las muestras de las siguientes distribuciones:\n",
    "# a) 10 valores de la uniforme [0,1).\n",
    "# b) 5 días de la semana, con repitición.\n",
    "# c) 8 valores de tirar 2 dados."
   ]
  },
  {
   "cell_type": "code",
   "execution_count": 3,
   "id": "e447df70-b0c7-400f-b814-a2eb73cbe969",
   "metadata": {},
   "outputs": [],
   "source": [
    "import random"
   ]
  },
  {
   "cell_type": "code",
   "execution_count": 5,
   "id": "cd0f485d-7521-49bb-b4c4-5f7a3fcdf175",
   "metadata": {},
   "outputs": [
    {
     "data": {
      "text/plain": [
       "[0.18232927553471012,\n",
       " 0.32633535056950547,\n",
       " 0.20014867310719542,\n",
       " 0.13109005747845537,\n",
       " 0.14745495354756355,\n",
       " 0.3884208400222231,\n",
       " 0.001309943454384177,\n",
       " 0.8314538382847344,\n",
       " 0.9962452172433496,\n",
       " 0.6063715635143767]"
      ]
     },
     "execution_count": 5,
     "metadata": {},
     "output_type": "execute_result"
    }
   ],
   "source": [
    "# Apartado a)\n",
    "# Mi respuesta\n",
    "resultado_a = [random.random() for n in range(10)]\n",
    "resultado_a"
   ]
  },
  {
   "cell_type": "code",
   "execution_count": 17,
   "id": "1e286445-1516-4614-90cd-529dfdd40808",
   "metadata": {},
   "outputs": [
    {
     "name": "stdout",
     "output_type": "stream",
     "text": [
      "a) [0.18026969 0.01947524 0.46321853 0.72493393 0.4202036 ]\n"
     ]
    }
   ],
   "source": [
    "# Apartado a)\n",
    "# Respuesta del profesor\n",
    "\n",
    "import numpy as np\n",
    "\n",
    "np.random.seed(seed=11)\n",
    "muestra_uniforme = np.random.rand(5)\n",
    "print('a)', muestra_uniforme)"
   ]
  },
  {
   "cell_type": "code",
   "execution_count": 33,
   "id": "08d94894-75d3-449d-9d6c-9a281af119ea",
   "metadata": {},
   "outputs": [
    {
     "data": {
      "text/plain": [
       "['Domingo', 'Viernes', 'Jueves', 'Domingo', 'Lunes']"
      ]
     },
     "execution_count": 33,
     "metadata": {},
     "output_type": "execute_result"
    }
   ],
   "source": [
    "# Apartado b)\n",
    "# Mi respuesta\n",
    "semana = ['Lunes', 'Martes', 'Miércoles', 'Jueves', 'Viernes', 'Sábado', 'Domingo']\n",
    "resultado_b = [random.choice(semana) for n in range(5)]\n",
    "resultado_b"
   ]
  },
  {
   "cell_type": "code",
   "execution_count": 39,
   "id": "12805174-a9d0-42e2-b95f-530be713abea",
   "metadata": {},
   "outputs": [
    {
     "name": "stdout",
     "output_type": "stream",
     "text": [
      "b) Martes Lunes Jueves Martes Sábado\n"
     ]
    }
   ],
   "source": [
    "# Apartado b)\n",
    "# Respuesta del profesor\n",
    "\n",
    "np.random.seed(seed=11)\n",
    "muestra_semana = np.random.randint(1,7,size=5) # 10 números enteros aleaorios entre 1 y 7\n",
    "dias_semana = semana\n",
    "print('b)', dias_semana[muestra_semana[0]-1], dias_semana[muestra_semana[1]-1], dias_semana[muestra_semana[2]-1], \n",
    "      dias_semana[muestra_semana[3]-1], dias_semana[muestra_semana[4]-1])"
   ]
  },
  {
   "cell_type": "code",
   "execution_count": 43,
   "id": "5ba363c2-7a03-4420-af52-711159383aa2",
   "metadata": {},
   "outputs": [
    {
     "data": {
      "text/plain": [
       "[11, 12, 6, 3, 12, 10, 7, 2]"
      ]
     },
     "execution_count": 43,
     "metadata": {},
     "output_type": "execute_result"
    }
   ],
   "source": [
    "# Apartado c)\n",
    "# Mi respuesta\n",
    "\n",
    "resultado_c = [random.randint(1,12) for n in range(8)]\n",
    "resultado_c"
   ]
  },
  {
   "cell_type": "code",
   "execution_count": 49,
   "id": "aa4c44d5-a4ed-4bed-b2a5-61b932c2325b",
   "metadata": {},
   "outputs": [
    {
     "name": "stdout",
     "output_type": "stream",
     "text": [
      "c) [ 7  2  5  7 10  5  8  3]\n"
     ]
    }
   ],
   "source": [
    "# Apartado c)\n",
    "# Respuesta del profesor\n",
    "\n",
    "np.random.seed(seed=11)\n",
    "muestra_dado1 = np.random.randint(1, 6, size=8)\n",
    "muestra_dado2 = np.random.randint(1, 6, size=8)\n",
    "muestra_dados = muestra_dado1 + muestra_dado2 # Suma los resultados de cada dado\n",
    "print('c)', muestra_dados)"
   ]
  },
  {
   "cell_type": "code",
   "execution_count": null,
   "id": "c73c6b4b-2578-4e95-9755-c62755609887",
   "metadata": {},
   "outputs": [],
   "source": []
  }
 ],
 "metadata": {
  "kernelspec": {
   "display_name": "Python 3 (ipykernel)",
   "language": "python",
   "name": "python3"
  },
  "language_info": {
   "codemirror_mode": {
    "name": "ipython",
    "version": 3
   },
   "file_extension": ".py",
   "mimetype": "text/x-python",
   "name": "python",
   "nbconvert_exporter": "python",
   "pygments_lexer": "ipython3",
   "version": "3.12.4"
  }
 },
 "nbformat": 4,
 "nbformat_minor": 5
}
