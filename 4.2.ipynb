{
 "cells": [
  {
   "cell_type": "code",
   "execution_count": 2,
   "id": "8a5df93e-6cd6-4c6d-8587-5bbe25948765",
   "metadata": {},
   "outputs": [],
   "source": [
    "# Profundiza en la relación existente entre las variables 'median_house_value' y 'median_income'. Obtén:\n",
    "# a) La ecuación del modelo de regresión lineal simple con la estimación de los coeficientes.\n",
    "# b) La estimación por MLE y por OLS de la varianza del modelo."
   ]
  },
  {
   "cell_type": "code",
   "execution_count": 15,
   "id": "05ba8a5d-46dd-4a74-8918-4655b09af89a",
   "metadata": {},
   "outputs": [
    {
     "name": "stdout",
     "output_type": "stream",
     "text": [
      "La pendiente vale: 41793.849201896264\n",
      "La ordenada en el origen vale: 45085.57670326799\n",
      "El coeficiente de determinación vale: 0.47344749180719903\n"
     ]
    }
   ],
   "source": [
    "# Apartado a)\n",
    "\n",
    "import pandas as pd\n",
    "from sklearn import linear_model # Para el ajuste\n",
    "from sklearn.metrics import r2_score, mean_squared_error # Para coeficiente de determinación y varianza\n",
    "\n",
    "# Se comienza cargando el dataset\n",
    "housing = pd.read_csv('datasets/housing/housing.csv')\n",
    "\n",
    "# Se extrae la variable dependiente/respuesta\n",
    "y = housing['median_house_value']\n",
    "y_rep = y.values.reshape(-1,1) # Vector columna\n",
    "\n",
    "# Variable independiente/predictora\n",
    "x = housing['median_income']\n",
    "x_rep = x.values.reshape(-1,1)\n",
    "\n",
    "# Objeto para la regresión\n",
    "lm = linear_model.LinearRegression()\n",
    "\n",
    "# Ajuste\n",
    "lm.fit(x_rep,y_rep)\n",
    "\n",
    "# Valor teórico\n",
    "y_pred = lm.predict(x_rep)\n",
    "\n",
    "print('La pendiente vale:', lm.coef_[0][0])\n",
    "print('La ordenada en el origen vale:', lm.intercept_[0])\n",
    "print('El coeficiente de determinación vale:', r2_score(y_rep,y_pred))"
   ]
  },
  {
   "cell_type": "code",
   "execution_count": 17,
   "id": "8104cb0e-d9a4-4f31-acd2-bf720ded23b3",
   "metadata": {},
   "outputs": [],
   "source": [
    "# La ecuacuón de la recta es Y = 45085.58 + 41793.85·X"
   ]
  },
  {
   "cell_type": "code",
   "execution_count": 34,
   "id": "5352dfea-6a09-4ec5-a922-374d9108aeba",
   "metadata": {},
   "outputs": [
    {
     "name": "stdout",
     "output_type": "stream",
     "text": [
      "La varianza del modelo usando OLS es: [7.01199096e+09]\n"
     ]
    }
   ],
   "source": [
    "# Estimamos la varianza del modelo usando OLS (ajuste por mínimos cuadrados)\n",
    "residuo = (y_rep-y_pred)**2\n",
    "print('La varianza del modelo usando OLS es:', sum(residuo)/(len(residuo)-2))"
   ]
  },
  {
   "cell_type": "code",
   "execution_count": 30,
   "id": "34e97ada-c17f-4b69-8fdd-5f9868d5d19a",
   "metadata": {},
   "outputs": [
    {
     "name": "stdout",
     "output_type": "stream",
     "text": [
      "La varianza del modelo usando MLE es: 7011311502.929527\n"
     ]
    }
   ],
   "source": [
    "# Estimamos la varianza del modelo usando MLE (método de máxima verosimilitud)\n",
    "print('La varianza del modelo usando MLE es:', mean_squared_error(y_rep,y_pred))"
   ]
  },
  {
   "cell_type": "code",
   "execution_count": 36,
   "id": "af609f2d-9ced-473f-869b-2ddbd8ba27ba",
   "metadata": {},
   "outputs": [
    {
     "name": "stdout",
     "output_type": "stream",
     "text": [
      "[7.0113115e+09]\n"
     ]
    }
   ],
   "source": [
    "# Cabe notar que la varianza estimada usando MLE solo difiere de aquella que se predice usando OLS en la división entre 'n' en lugar de 'n-2'\n",
    "print(sum(residuo)/len(residuo))"
   ]
  }
 ],
 "metadata": {
  "kernelspec": {
   "display_name": "Python 3 (ipykernel)",
   "language": "python",
   "name": "python3"
  },
  "language_info": {
   "codemirror_mode": {
    "name": "ipython",
    "version": 3
   },
   "file_extension": ".py",
   "mimetype": "text/x-python",
   "name": "python",
   "nbconvert_exporter": "python",
   "pygments_lexer": "ipython3",
   "version": "3.12.4"
  }
 },
 "nbformat": 4,
 "nbformat_minor": 5
}
